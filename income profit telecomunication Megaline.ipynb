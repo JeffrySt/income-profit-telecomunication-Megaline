{
 "cells": [
  {
   "cell_type": "code",
   "execution_count": 1,
   "metadata": {},
   "outputs": [],
   "source": [
    "import pandas as pd\n",
    "import matplotlib.pyplot as plt\n",
    "import numpy as np\n",
    "from scipy import stats as st\n",
    "import seaborn as sns"
   ]
  },
  {
   "cell_type": "markdown",
   "metadata": {},
   "source": [
    "__DESKRIPSI PROYEK:__\n",
    "<br>Anda bekerja sebagai analis untuk operator telekomunikasi Megaline. Perusahaan tersebut menawarkan kliennya dua paket prabayar, Surf dan Ultimate. Departemen periklanan ingin mengetahui paket prabayar mana yang menghasilkan lebih banyak pendapatan untuk menyesuaikan anggaran iklan.\n",
    "Anda akan melakukan analisis awal untuk paket-paket prabayar tersebut berdasarkan sampel klien yang berukuran relatif kecil. Anda akan memiliki 500 data klien Megaline: siapa mereka, dari mana mereka, jenis paket apa yang mereka gunakan, serta jumlah panggilan dan pesan yang mereka kirim di tahun 2018. Tugas Anda adalah untuk menganalisis perilaku klien dan menentukan paket prabayar mana yang mendatangkan lebih banyak pendapatan.\n",
    "\n",
    "__TUJUAN PROYEK:__\n",
    "<br>Analisa perilaku customers/clients dari data operator telekomunikasi Megaline, untuk menentukan dari dua paket prabayar (Surf dan Ultimate) mana yang lebih menguntungkan dan menguji dua hipotesis statistik. \n",
    "\n",
    "__Langkah-langkah mengerjakan proyek:__\n",
    "1. Buka file data dan pelajari informasi umumnya\n",
    "    <br>File path:\n",
    "    *  /datasets/megaline_calls.csv \n",
    "       <li>/datasets/megaline_internet.csv \n",
    "       <li>/datasets/megaline_messages.csv \n",
    "       <li>/datasets/megaline_plans.csv \n",
    "       <li>/datasets/megaline_users.csv \n",
    "2. Siapkan datanya\n",
    "*  Konversikan data menjadi tipe data yang dibutuhkan\n",
    "<li>Temukan dan eliminasi kesalahan pada data\n",
    "<li>Jelaskan kesalahan yang Anda temukan dan bagaimana Anda mengeliminasinya. Catatan: terdapat sejumlah panggilan yang memiliki durasi 0,0 menit. Ini mungkin adalah panggilan tak terjawab. Terserah Anda apakah Anda akan melakukan eliminasi untuk nilai-nilai ini atau tidak; pertimbangkanlah seberapa besar ketidakhadiran mereka akan memengaruhi hasil analisis Anda.\n",
    "<br>Untuk setiap pengguna, temukan:\n",
    "<li>Jumlah panggilan yang dilakukan dan menit yang digunakan per bulan\n",
    "<li>Jumlah SMS yang dikirim per bulan\n",
    "<li>Volume data per bulan\n",
    "<li>Pendapatan bulanan dari setiap pengguna (kurangi batas paket gratis dari jumlah total panggilan, SMS, dan data; kalikan hasilnya dengan nilai paket telepon; tambahkan biaya bulanan tergantung pada paket teleponnya)\n",
    "3. Analisis datanya\n",
    "<br>Deskripsikan perilaku konsumen. Temukan menit, pesan, dan volume penggunaan data seluler yang dibutuhkan pengguna setiap paket per bulan. Hitung rata-rata, varians, dan standar deviasinya. Buatlah histogram. Deskripsikan distribusinya.\n",
    "4. Uji hipotesisnya\n",
    "*  Rata-rata pendapatan dari pengguna paket telepon Ultimate dan Surf berbeda.\n",
    "<li>Rata-rata pendapatan dari pengguna di wilayah NY-NJ berbeda dengan pendapatan pengguna dari wilayah lain.\n",
    "<br>Anda dapat menentukan seberapa besar nilai \"alpha\" yang akan digunakan.\n",
    "<br>Jelaskan:\n",
    "*  Bagaimana Anda merumuskan hipotesis nol dan hipotesis alternatif.\n",
    "<li>Kriteria apa yang Anda gunakan untuk menguji hipotesis dan alasan penggunaannya.\n",
    "5. Tulis kesimpulannya secara menyeluruh\n",
    "<br>Format: Selesaikan tugas Anda di Jupyter Notebook. Masukkan kode pemrograman ke dalam sel code dan teks penjelasan ke dalam sel markdown, kemudian lakukan pemformatan dan beri judul.\n"
   ]
  },
  {
   "cell_type": "markdown",
   "metadata": {},
   "source": [
    "__DESKRIPSI DATA__\n",
    "<br>Ingat! Megaline membulatkan detik ke menit, serta megabita ke gigabita. Untuk panggilan, setiap panggilan individual dibulatkan ke atas: bahkan jika suatu panggilan berlangsung hanya satu detik, ia akan dihitung sebagai satu menit. Untuk lalu lintas web, setiap sesi web individual tidak dibulatkan ke atas. Akan tetapi, total untuk sebulan dibulatkan ke atas. Jika seorang pengguna menghabiskan 1025 megabita bulan ini, maka ia akan dikenai biaya untuk 2 gigabita.\n",
    "\n",
    "\n",
    "__Tabel users (data pengguna):__\n",
    "\n",
    "<li>user_id — ID pengguna\n",
    "<li>first_name — nama depan pengguna\n",
    "<li>last_name — nama belakang pengguna\n",
    "<li>age — usia pengguna (tahun)\n",
    "<li>reg_date — tanggal mulai berlangganan (dd, mm, yy)\n",
    "<li>churn_date — tanggal pengguna berhenti menggunakan layanan (jika nilainya hilang atau tidak @ada, berarti paket layanan sedang digunakan saat data ini dibuat)\n",
    "<li>city — kota tempat tinggal pengguna\n",
    "<li>plan — nama paket telepon\n",
    "\n",
    "<br>__Tabel calls (data panggilan):__\n",
    "<li>id — ID sesi web unik\n",
    "<li>call_date — tanggal panggilan\n",
    "<li>duration — durasi panggilan (dalam menit)\n",
    "<li>user_id — ID pengguna yang melakukan panggilan\n",
    "\n",
    "<br>__Tabel messages (data SMS):__\n",
    "<li>id — ID SMS unik\n",
    "<li>message_date — tanggal SMS dikirim\n",
    "<li>user_id — ID pengguna yang mengirim SMS\n",
    "\n",
    "<br>__Tabel internet (data sesi web):__\n",
    "<li>id — ID sesi web unik\n",
    "<li>mb_used — volume data yang dihabiskan selama sesi (dalam megabita)\n",
    "<li>session_date — tanggal sesi web\n",
    "<li>user_id — ID pengguna\n",
    "\n",
    "<br>__Tabel plans (data paket telepon):__\n",
    "<li>plan_name — nama paket telepon\n",
    "<li>usd_monthly_fee — biaya bulanan dalam dolar AS\n",
    "<li>minutes_included — alokasi menit panggilan bulanan\n",
    "<li>messages_included — alokasi SMS bulanan\n",
    "<li>mb_per_month_included — alokasi volume data bulanan (dalam megabita)\n",
    "<li>usd_per_minute — harga per menit jika telah melebihi batas alokasi paket (misalnya, jika paket memiliki alokasi 100 menit, maka penggunaan mulai dari menit ke-101 akan dikenakan biaya)\n",
    "<li>usd_per_message — harga per SMS jika telah melebihi batas alokasi paket\n",
    "<li>usd_per_gb — harga per ekstra gigabita data jika telah melebihi batas alokasi paket (1 GB = 1024 megabita)"
   ]
  },
  {
   "cell_type": "code",
   "execution_count": 2,
   "metadata": {},
   "outputs": [],
   "source": [
    "df_calls=pd.read_csv('/datasets/megaline_calls.csv')\n",
    "df_internet=pd.read_csv('/datasets/megaline_internet.csv')\n",
    "df_messages=pd.read_csv('/datasets/megaline_messages.csv') \n",
    "df_plans=pd.read_csv('/datasets/megaline_plans.csv')\n",
    "df_users=pd.read_csv('/datasets/megaline_users.csv')"
   ]
  },
  {
   "cell_type": "markdown",
   "metadata": {},
   "source": [
    "__DF_USERS__"
   ]
  },
  {
   "cell_type": "code",
   "execution_count": 3,
   "metadata": {},
   "outputs": [
    {
     "data": {
      "text/html": [
       "<div>\n",
       "<style scoped>\n",
       "    .dataframe tbody tr th:only-of-type {\n",
       "        vertical-align: middle;\n",
       "    }\n",
       "\n",
       "    .dataframe tbody tr th {\n",
       "        vertical-align: top;\n",
       "    }\n",
       "\n",
       "    .dataframe thead th {\n",
       "        text-align: right;\n",
       "    }\n",
       "</style>\n",
       "<table border=\"1\" class=\"dataframe\">\n",
       "  <thead>\n",
       "    <tr style=\"text-align: right;\">\n",
       "      <th></th>\n",
       "      <th>user_id</th>\n",
       "      <th>first_name</th>\n",
       "      <th>last_name</th>\n",
       "      <th>age</th>\n",
       "      <th>city</th>\n",
       "      <th>reg_date</th>\n",
       "      <th>plan</th>\n",
       "      <th>churn_date</th>\n",
       "    </tr>\n",
       "  </thead>\n",
       "  <tbody>\n",
       "    <tr>\n",
       "      <th>0</th>\n",
       "      <td>1000</td>\n",
       "      <td>Anamaria</td>\n",
       "      <td>Bauer</td>\n",
       "      <td>45</td>\n",
       "      <td>Atlanta-Sandy Springs-Roswell, GA MSA</td>\n",
       "      <td>2018-12-24</td>\n",
       "      <td>ultimate</td>\n",
       "      <td>NaN</td>\n",
       "    </tr>\n",
       "    <tr>\n",
       "      <th>1</th>\n",
       "      <td>1001</td>\n",
       "      <td>Mickey</td>\n",
       "      <td>Wilkerson</td>\n",
       "      <td>28</td>\n",
       "      <td>Seattle-Tacoma-Bellevue, WA MSA</td>\n",
       "      <td>2018-08-13</td>\n",
       "      <td>surf</td>\n",
       "      <td>NaN</td>\n",
       "    </tr>\n",
       "    <tr>\n",
       "      <th>2</th>\n",
       "      <td>1002</td>\n",
       "      <td>Carlee</td>\n",
       "      <td>Hoffman</td>\n",
       "      <td>36</td>\n",
       "      <td>Las Vegas-Henderson-Paradise, NV MSA</td>\n",
       "      <td>2018-10-21</td>\n",
       "      <td>surf</td>\n",
       "      <td>NaN</td>\n",
       "    </tr>\n",
       "    <tr>\n",
       "      <th>3</th>\n",
       "      <td>1003</td>\n",
       "      <td>Reynaldo</td>\n",
       "      <td>Jenkins</td>\n",
       "      <td>52</td>\n",
       "      <td>Tulsa, OK MSA</td>\n",
       "      <td>2018-01-28</td>\n",
       "      <td>surf</td>\n",
       "      <td>NaN</td>\n",
       "    </tr>\n",
       "    <tr>\n",
       "      <th>4</th>\n",
       "      <td>1004</td>\n",
       "      <td>Leonila</td>\n",
       "      <td>Thompson</td>\n",
       "      <td>40</td>\n",
       "      <td>Seattle-Tacoma-Bellevue, WA MSA</td>\n",
       "      <td>2018-05-23</td>\n",
       "      <td>surf</td>\n",
       "      <td>NaN</td>\n",
       "    </tr>\n",
       "  </tbody>\n",
       "</table>\n",
       "</div>"
      ],
      "text/plain": [
       "   user_id first_name  last_name  age                                   city  \\\n",
       "0     1000   Anamaria      Bauer   45  Atlanta-Sandy Springs-Roswell, GA MSA   \n",
       "1     1001     Mickey  Wilkerson   28        Seattle-Tacoma-Bellevue, WA MSA   \n",
       "2     1002     Carlee    Hoffman   36   Las Vegas-Henderson-Paradise, NV MSA   \n",
       "3     1003   Reynaldo    Jenkins   52                          Tulsa, OK MSA   \n",
       "4     1004    Leonila   Thompson   40        Seattle-Tacoma-Bellevue, WA MSA   \n",
       "\n",
       "     reg_date      plan churn_date  \n",
       "0  2018-12-24  ultimate        NaN  \n",
       "1  2018-08-13      surf        NaN  \n",
       "2  2018-10-21      surf        NaN  \n",
       "3  2018-01-28      surf        NaN  \n",
       "4  2018-05-23      surf        NaN  "
      ]
     },
     "execution_count": 3,
     "metadata": {},
     "output_type": "execute_result"
    }
   ],
   "source": [
    "df_users.head()"
   ]
  },
  {
   "cell_type": "markdown",
   "metadata": {},
   "source": [
    "Banyak missing values di column 'churn_date' berarti paket layanan sedang digunakan saat data ini dibuat, artinya missing values pada column ini bersifat positif bagi Megaline. Nilai yang hilang ini harus diperiksa dan NaN akan diganti dengan nama kategori tertentu pada kolom tambahan baru. "
   ]
  },
  {
   "cell_type": "code",
   "execution_count": 4,
   "metadata": {},
   "outputs": [
    {
     "name": "stdout",
     "output_type": "stream",
     "text": [
      "<class 'pandas.core.frame.DataFrame'>\n",
      "RangeIndex: 500 entries, 0 to 499\n",
      "Data columns (total 8 columns):\n",
      " #   Column      Non-Null Count  Dtype \n",
      "---  ------      --------------  ----- \n",
      " 0   user_id     500 non-null    int64 \n",
      " 1   first_name  500 non-null    object\n",
      " 2   last_name   500 non-null    object\n",
      " 3   age         500 non-null    int64 \n",
      " 4   city        500 non-null    object\n",
      " 5   reg_date    500 non-null    object\n",
      " 6   plan        500 non-null    object\n",
      " 7   churn_date  34 non-null     object\n",
      "dtypes: int64(2), object(6)\n",
      "memory usage: 31.4+ KB\n"
     ]
    }
   ],
   "source": [
    "df_users.info()"
   ]
  },
  {
   "cell_type": "markdown",
   "metadata": {},
   "source": [
    "<li>Missing values hanya terdapat pada column 'churn_date' saja\n",
    "<li>dtype pada column reg_date perlu dirubah menjadi to_datetime untuk mempermudah analisa (jika diperlukan) dibedakan berdasarkan hitungan days, months atau years. "
   ]
  },
  {
   "cell_type": "markdown",
   "metadata": {},
   "source": [
    "Ada 466 rows missing values pada column churn_date. Perlu dibersihkan missing values ini. "
   ]
  },
  {
   "cell_type": "code",
   "execution_count": 5,
   "metadata": {},
   "outputs": [
    {
     "data": {
      "text/plain": [
       "2018-12-18    3\n",
       "2018-11-14    2\n",
       "2018-12-19    2\n",
       "2018-12-31    2\n",
       "2018-12-12    1\n",
       "2018-12-10    1\n",
       "2018-12-15    1\n",
       "2018-09-17    1\n",
       "2018-09-18    1\n",
       "2018-11-18    1\n",
       "2018-12-26    1\n",
       "2018-09-07    1\n",
       "2018-11-16    1\n",
       "2018-11-24    1\n",
       "2018-11-30    1\n",
       "2018-10-03    1\n",
       "2018-11-29    1\n",
       "2018-12-27    1\n",
       "2018-10-07    1\n",
       "2018-12-22    1\n",
       "2018-08-19    1\n",
       "2018-07-31    1\n",
       "2018-08-16    1\n",
       "2018-11-11    1\n",
       "2018-12-30    1\n",
       "2018-11-21    1\n",
       "2018-10-13    1\n",
       "2018-10-22    1\n",
       "2018-09-01    1\n",
       "Name: churn_date, dtype: int64"
      ]
     },
     "execution_count": 5,
     "metadata": {},
     "output_type": "execute_result"
    }
   ],
   "source": [
    "df_users.churn_date.value_counts()"
   ]
  },
  {
   "cell_type": "markdown",
   "metadata": {},
   "source": [
    "<li>customer yang berhenti berlangganan sepertinya hanya di bulan 7 sd 12 tahun 2018. Sepertinya ini data tahun 2018 saja. Jadi untuk memudahkan analisa, kategorisasi NaN untuk churn_date bisa diganti dengan 2018-12-31.\n",
    "<li>Ternyata dtype column churn_date ini masih int64 sehingga pada langkah berikutnya perlu dirubah menjadi to_datetime sama seperti column reg_date."
   ]
  },
  {
   "cell_type": "code",
   "execution_count": 6,
   "metadata": {},
   "outputs": [
    {
     "data": {
      "text/html": [
       "<div>\n",
       "<style scoped>\n",
       "    .dataframe tbody tr th:only-of-type {\n",
       "        vertical-align: middle;\n",
       "    }\n",
       "\n",
       "    .dataframe tbody tr th {\n",
       "        vertical-align: top;\n",
       "    }\n",
       "\n",
       "    .dataframe thead th {\n",
       "        text-align: right;\n",
       "    }\n",
       "</style>\n",
       "<table border=\"1\" class=\"dataframe\">\n",
       "  <thead>\n",
       "    <tr style=\"text-align: right;\">\n",
       "      <th></th>\n",
       "      <th>user_id</th>\n",
       "      <th>age</th>\n",
       "    </tr>\n",
       "  </thead>\n",
       "  <tbody>\n",
       "    <tr>\n",
       "      <th>count</th>\n",
       "      <td>500.000000</td>\n",
       "      <td>500.000000</td>\n",
       "    </tr>\n",
       "    <tr>\n",
       "      <th>mean</th>\n",
       "      <td>1249.500000</td>\n",
       "      <td>45.486000</td>\n",
       "    </tr>\n",
       "    <tr>\n",
       "      <th>std</th>\n",
       "      <td>144.481833</td>\n",
       "      <td>16.972269</td>\n",
       "    </tr>\n",
       "    <tr>\n",
       "      <th>min</th>\n",
       "      <td>1000.000000</td>\n",
       "      <td>18.000000</td>\n",
       "    </tr>\n",
       "    <tr>\n",
       "      <th>25%</th>\n",
       "      <td>1124.750000</td>\n",
       "      <td>30.000000</td>\n",
       "    </tr>\n",
       "    <tr>\n",
       "      <th>50%</th>\n",
       "      <td>1249.500000</td>\n",
       "      <td>46.000000</td>\n",
       "    </tr>\n",
       "    <tr>\n",
       "      <th>75%</th>\n",
       "      <td>1374.250000</td>\n",
       "      <td>61.000000</td>\n",
       "    </tr>\n",
       "    <tr>\n",
       "      <th>max</th>\n",
       "      <td>1499.000000</td>\n",
       "      <td>75.000000</td>\n",
       "    </tr>\n",
       "  </tbody>\n",
       "</table>\n",
       "</div>"
      ],
      "text/plain": [
       "           user_id         age\n",
       "count   500.000000  500.000000\n",
       "mean   1249.500000   45.486000\n",
       "std     144.481833   16.972269\n",
       "min    1000.000000   18.000000\n",
       "25%    1124.750000   30.000000\n",
       "50%    1249.500000   46.000000\n",
       "75%    1374.250000   61.000000\n",
       "max    1499.000000   75.000000"
      ]
     },
     "execution_count": 6,
     "metadata": {},
     "output_type": "execute_result"
    }
   ],
   "source": [
    "df_users.describe()"
   ]
  },
  {
   "cell_type": "markdown",
   "metadata": {},
   "source": [
    "nilai mean dan median hampir satu garis, kemungkinan outliers hampir tidak ada pengaruh "
   ]
  },
  {
   "cell_type": "code",
   "execution_count": 7,
   "metadata": {},
   "outputs": [
    {
     "data": {
      "text/plain": [
       "<AxesSubplot:>"
      ]
     },
     "execution_count": 7,
     "metadata": {},
     "output_type": "execute_result"
    },
    {
     "data": {
      "image/png": "[encoded data removed]",
      "text/plain": [
       "<Figure size 432x288 with 1 Axes>"
      ]
     },
     "metadata": {
      "needs_background": "light"
     },
     "output_type": "display_data"
    }
   ],
   "source": [
    "df_users.age.plot(kind='box')"
   ]
  },
  {
   "cell_type": "markdown",
   "metadata": {},
   "source": [
    "Terlihat tidak ada outliers"
   ]
  },
  {
   "cell_type": "markdown",
   "metadata": {},
   "source": [
    "__DF_CALLS__"
   ]
  },
  {
   "cell_type": "code",
   "execution_count": 8,
   "metadata": {},
   "outputs": [
    {
     "data": {
      "text/html": [
       "<div>\n",
       "<style scoped>\n",
       "    .dataframe tbody tr th:only-of-type {\n",
       "        vertical-align: middle;\n",
       "    }\n",
       "\n",
       "    .dataframe tbody tr th {\n",
       "        vertical-align: top;\n",
       "    }\n",
       "\n",
       "    .dataframe thead th {\n",
       "        text-align: right;\n",
       "    }\n",
       "</style>\n",
       "<table border=\"1\" class=\"dataframe\">\n",
       "  <thead>\n",
       "    <tr style=\"text-align: right;\">\n",
       "      <th></th>\n",
       "      <th>id</th>\n",
       "      <th>user_id</th>\n",
       "      <th>call_date</th>\n",
       "      <th>duration</th>\n",
       "    </tr>\n",
       "  </thead>\n",
       "  <tbody>\n",
       "    <tr>\n",
       "      <th>0</th>\n",
       "      <td>1000_93</td>\n",
       "      <td>1000</td>\n",
       "      <td>2018-12-27</td>\n",
       "      <td>8.52</td>\n",
       "    </tr>\n",
       "    <tr>\n",
       "      <th>1</th>\n",
       "      <td>1000_145</td>\n",
       "      <td>1000</td>\n",
       "      <td>2018-12-27</td>\n",
       "      <td>13.66</td>\n",
       "    </tr>\n",
       "    <tr>\n",
       "      <th>2</th>\n",
       "      <td>1000_247</td>\n",
       "      <td>1000</td>\n",
       "      <td>2018-12-27</td>\n",
       "      <td>14.48</td>\n",
       "    </tr>\n",
       "    <tr>\n",
       "      <th>3</th>\n",
       "      <td>1000_309</td>\n",
       "      <td>1000</td>\n",
       "      <td>2018-12-28</td>\n",
       "      <td>5.76</td>\n",
       "    </tr>\n",
       "    <tr>\n",
       "      <th>4</th>\n",
       "      <td>1000_380</td>\n",
       "      <td>1000</td>\n",
       "      <td>2018-12-30</td>\n",
       "      <td>4.22</td>\n",
       "    </tr>\n",
       "  </tbody>\n",
       "</table>\n",
       "</div>"
      ],
      "text/plain": [
       "         id  user_id   call_date  duration\n",
       "0   1000_93     1000  2018-12-27      8.52\n",
       "1  1000_145     1000  2018-12-27     13.66\n",
       "2  1000_247     1000  2018-12-27     14.48\n",
       "3  1000_309     1000  2018-12-28      5.76\n",
       "4  1000_380     1000  2018-12-30      4.22"
      ]
     },
     "execution_count": 8,
     "metadata": {},
     "output_type": "execute_result"
    }
   ],
   "source": [
    "df_calls.head()"
   ]
  },
  {
   "cell_type": "code",
   "execution_count": 9,
   "metadata": {},
   "outputs": [
    {
     "name": "stdout",
     "output_type": "stream",
     "text": [
      "<class 'pandas.core.frame.DataFrame'>\n",
      "RangeIndex: 137735 entries, 0 to 137734\n",
      "Data columns (total 4 columns):\n",
      " #   Column     Non-Null Count   Dtype  \n",
      "---  ------     --------------   -----  \n",
      " 0   id         137735 non-null  object \n",
      " 1   user_id    137735 non-null  int64  \n",
      " 2   call_date  137735 non-null  object \n",
      " 3   duration   137735 non-null  float64\n",
      "dtypes: float64(1), int64(1), object(2)\n",
      "memory usage: 4.2+ MB\n"
     ]
    }
   ],
   "source": [
    "df_calls.info()"
   ]
  },
  {
   "cell_type": "markdown",
   "metadata": {},
   "source": [
    "<li>Total column ada 4 columns dan memiliki 137735 rows. \n",
    "<li>Tidak ada missing values dari setiap kolom. \n",
    "<li>Untuk dtype di column 'call_date' perlu dirubah to_datetime, sehingga dapat memudahkan (jika diperlukan) untuk menghitung day, month atau year. "
   ]
  },
  {
   "cell_type": "code",
   "execution_count": 10,
   "metadata": {},
   "outputs": [
    {
     "data": {
      "text/html": [
       "<div>\n",
       "<style scoped>\n",
       "    .dataframe tbody tr th:only-of-type {\n",
       "        vertical-align: middle;\n",
       "    }\n",
       "\n",
       "    .dataframe tbody tr th {\n",
       "        vertical-align: top;\n",
       "    }\n",
       "\n",
       "    .dataframe thead th {\n",
       "        text-align: right;\n",
       "    }\n",
       "</style>\n",
       "<table border=\"1\" class=\"dataframe\">\n",
       "  <thead>\n",
       "    <tr style=\"text-align: right;\">\n",
       "      <th></th>\n",
       "      <th>user_id</th>\n",
       "      <th>duration</th>\n",
       "    </tr>\n",
       "  </thead>\n",
       "  <tbody>\n",
       "    <tr>\n",
       "      <th>count</th>\n",
       "      <td>137735.000000</td>\n",
       "      <td>137735.000000</td>\n",
       "    </tr>\n",
       "    <tr>\n",
       "      <th>mean</th>\n",
       "      <td>1247.658046</td>\n",
       "      <td>6.745927</td>\n",
       "    </tr>\n",
       "    <tr>\n",
       "      <th>std</th>\n",
       "      <td>139.416268</td>\n",
       "      <td>5.839241</td>\n",
       "    </tr>\n",
       "    <tr>\n",
       "      <th>min</th>\n",
       "      <td>1000.000000</td>\n",
       "      <td>0.000000</td>\n",
       "    </tr>\n",
       "    <tr>\n",
       "      <th>25%</th>\n",
       "      <td>1128.000000</td>\n",
       "      <td>1.290000</td>\n",
       "    </tr>\n",
       "    <tr>\n",
       "      <th>50%</th>\n",
       "      <td>1247.000000</td>\n",
       "      <td>5.980000</td>\n",
       "    </tr>\n",
       "    <tr>\n",
       "      <th>75%</th>\n",
       "      <td>1365.000000</td>\n",
       "      <td>10.690000</td>\n",
       "    </tr>\n",
       "    <tr>\n",
       "      <th>max</th>\n",
       "      <td>1499.000000</td>\n",
       "      <td>37.600000</td>\n",
       "    </tr>\n",
       "  </tbody>\n",
       "</table>\n",
       "</div>"
      ],
      "text/plain": [
       "             user_id       duration\n",
       "count  137735.000000  137735.000000\n",
       "mean     1247.658046       6.745927\n",
       "std       139.416268       5.839241\n",
       "min      1000.000000       0.000000\n",
       "25%      1128.000000       1.290000\n",
       "50%      1247.000000       5.980000\n",
       "75%      1365.000000      10.690000\n",
       "max      1499.000000      37.600000"
      ]
     },
     "execution_count": 10,
     "metadata": {},
     "output_type": "execute_result"
    }
   ],
   "source": [
    "df_calls.describe()"
   ]
  },
  {
   "cell_type": "markdown",
   "metadata": {},
   "source": [
    "Min value pada column duration adalah 0 (sesuai dengan info pada instruksi) berarti ada panggilan tidak terjawab, sehingga tidak perlu dikenakan biaya untuk nilai 0 ini. Ada 478 user_id yang mengalami panggilan tidak terjawab alias duration yang nilainya 0 menit."
   ]
  },
  {
   "cell_type": "code",
   "execution_count": 11,
   "metadata": {},
   "outputs": [
    {
     "data": {
      "text/plain": [
       "1306      1\n",
       "1323      1\n",
       "1104      1\n",
       "1481      1\n",
       "1135      2\n",
       "       ... \n",
       "1334    224\n",
       "1362    224\n",
       "1240    228\n",
       "1324    236\n",
       "1077    249\n",
       "Name: user_id, Length: 478, dtype: int64"
      ]
     },
     "execution_count": 11,
     "metadata": {},
     "output_type": "execute_result"
    }
   ],
   "source": [
    "df_calls[(df_calls['duration']==0)]['user_id'].value_counts(ascending=True)"
   ]
  },
  {
   "cell_type": "code",
   "execution_count": 12,
   "metadata": {},
   "outputs": [
    {
     "data": {
      "text/html": [
       "<div>\n",
       "<style scoped>\n",
       "    .dataframe tbody tr th:only-of-type {\n",
       "        vertical-align: middle;\n",
       "    }\n",
       "\n",
       "    .dataframe tbody tr th {\n",
       "        vertical-align: top;\n",
       "    }\n",
       "\n",
       "    .dataframe thead th {\n",
       "        text-align: right;\n",
       "    }\n",
       "</style>\n",
       "<table border=\"1\" class=\"dataframe\">\n",
       "  <thead>\n",
       "    <tr style=\"text-align: right;\">\n",
       "      <th></th>\n",
       "      <th>id</th>\n",
       "      <th>user_id</th>\n",
       "      <th>call_date</th>\n",
       "      <th>duration</th>\n",
       "    </tr>\n",
       "  </thead>\n",
       "  <tbody>\n",
       "    <tr>\n",
       "      <th>19</th>\n",
       "      <td>1001_4</td>\n",
       "      <td>1001</td>\n",
       "      <td>2018-12-05</td>\n",
       "      <td>0.0</td>\n",
       "    </tr>\n",
       "    <tr>\n",
       "      <th>25</th>\n",
       "      <td>1001_13</td>\n",
       "      <td>1001</td>\n",
       "      <td>2018-12-24</td>\n",
       "      <td>0.0</td>\n",
       "    </tr>\n",
       "    <tr>\n",
       "      <th>31</th>\n",
       "      <td>1001_30</td>\n",
       "      <td>1001</td>\n",
       "      <td>2018-10-17</td>\n",
       "      <td>0.0</td>\n",
       "    </tr>\n",
       "    <tr>\n",
       "      <th>32</th>\n",
       "      <td>1001_31</td>\n",
       "      <td>1001</td>\n",
       "      <td>2018-11-03</td>\n",
       "      <td>0.0</td>\n",
       "    </tr>\n",
       "    <tr>\n",
       "      <th>34</th>\n",
       "      <td>1001_35</td>\n",
       "      <td>1001</td>\n",
       "      <td>2018-12-21</td>\n",
       "      <td>0.0</td>\n",
       "    </tr>\n",
       "    <tr>\n",
       "      <th>...</th>\n",
       "      <td>...</td>\n",
       "      <td>...</td>\n",
       "      <td>...</td>\n",
       "      <td>...</td>\n",
       "    </tr>\n",
       "    <tr>\n",
       "      <th>137714</th>\n",
       "      <td>1499_183</td>\n",
       "      <td>1499</td>\n",
       "      <td>2018-11-10</td>\n",
       "      <td>0.0</td>\n",
       "    </tr>\n",
       "    <tr>\n",
       "      <th>137715</th>\n",
       "      <td>1499_184</td>\n",
       "      <td>1499</td>\n",
       "      <td>2018-09-15</td>\n",
       "      <td>0.0</td>\n",
       "    </tr>\n",
       "    <tr>\n",
       "      <th>137720</th>\n",
       "      <td>1499_189</td>\n",
       "      <td>1499</td>\n",
       "      <td>2018-12-27</td>\n",
       "      <td>0.0</td>\n",
       "    </tr>\n",
       "    <tr>\n",
       "      <th>137722</th>\n",
       "      <td>1499_191</td>\n",
       "      <td>1499</td>\n",
       "      <td>2018-12-24</td>\n",
       "      <td>0.0</td>\n",
       "    </tr>\n",
       "    <tr>\n",
       "      <th>137725</th>\n",
       "      <td>1499_194</td>\n",
       "      <td>1499</td>\n",
       "      <td>2018-10-31</td>\n",
       "      <td>0.0</td>\n",
       "    </tr>\n",
       "  </tbody>\n",
       "</table>\n",
       "<p>26834 rows × 4 columns</p>\n",
       "</div>"
      ],
      "text/plain": [
       "              id  user_id   call_date  duration\n",
       "19        1001_4     1001  2018-12-05       0.0\n",
       "25       1001_13     1001  2018-12-24       0.0\n",
       "31       1001_30     1001  2018-10-17       0.0\n",
       "32       1001_31     1001  2018-11-03       0.0\n",
       "34       1001_35     1001  2018-12-21       0.0\n",
       "...          ...      ...         ...       ...\n",
       "137714  1499_183     1499  2018-11-10       0.0\n",
       "137715  1499_184     1499  2018-09-15       0.0\n",
       "137720  1499_189     1499  2018-12-27       0.0\n",
       "137722  1499_191     1499  2018-12-24       0.0\n",
       "137725  1499_194     1499  2018-10-31       0.0\n",
       "\n",
       "[26834 rows x 4 columns]"
      ]
     },
     "execution_count": 12,
     "metadata": {},
     "output_type": "execute_result"
    }
   ],
   "source": [
    "df_calls.loc[df_calls['duration']==0]"
   ]
  },
  {
   "cell_type": "markdown",
   "metadata": {},
   "source": [
    "__DF_MESSAGES__"
   ]
  },
  {
   "cell_type": "code",
   "execution_count": 13,
   "metadata": {},
   "outputs": [
    {
     "data": {
      "text/html": [
       "<div>\n",
       "<style scoped>\n",
       "    .dataframe tbody tr th:only-of-type {\n",
       "        vertical-align: middle;\n",
       "    }\n",
       "\n",
       "    .dataframe tbody tr th {\n",
       "        vertical-align: top;\n",
       "    }\n",
       "\n",
       "    .dataframe thead th {\n",
       "        text-align: right;\n",
       "    }\n",
       "</style>\n",
       "<table border=\"1\" class=\"dataframe\">\n",
       "  <thead>\n",
       "    <tr style=\"text-align: right;\">\n",
       "      <th></th>\n",
       "      <th>id</th>\n",
       "      <th>user_id</th>\n",
       "      <th>message_date</th>\n",
       "    </tr>\n",
       "  </thead>\n",
       "  <tbody>\n",
       "    <tr>\n",
       "      <th>0</th>\n",
       "      <td>1000_125</td>\n",
       "      <td>1000</td>\n",
       "      <td>2018-12-27</td>\n",
       "    </tr>\n",
       "    <tr>\n",
       "      <th>1</th>\n",
       "      <td>1000_160</td>\n",
       "      <td>1000</td>\n",
       "      <td>2018-12-31</td>\n",
       "    </tr>\n",
       "    <tr>\n",
       "      <th>2</th>\n",
       "      <td>1000_223</td>\n",
       "      <td>1000</td>\n",
       "      <td>2018-12-31</td>\n",
       "    </tr>\n",
       "    <tr>\n",
       "      <th>3</th>\n",
       "      <td>1000_251</td>\n",
       "      <td>1000</td>\n",
       "      <td>2018-12-27</td>\n",
       "    </tr>\n",
       "    <tr>\n",
       "      <th>4</th>\n",
       "      <td>1000_255</td>\n",
       "      <td>1000</td>\n",
       "      <td>2018-12-26</td>\n",
       "    </tr>\n",
       "  </tbody>\n",
       "</table>\n",
       "</div>"
      ],
      "text/plain": [
       "         id  user_id message_date\n",
       "0  1000_125     1000   2018-12-27\n",
       "1  1000_160     1000   2018-12-31\n",
       "2  1000_223     1000   2018-12-31\n",
       "3  1000_251     1000   2018-12-27\n",
       "4  1000_255     1000   2018-12-26"
      ]
     },
     "execution_count": 13,
     "metadata": {},
     "output_type": "execute_result"
    }
   ],
   "source": [
    "df_messages.head()"
   ]
  },
  {
   "cell_type": "code",
   "execution_count": 14,
   "metadata": {},
   "outputs": [
    {
     "name": "stdout",
     "output_type": "stream",
     "text": [
      "<class 'pandas.core.frame.DataFrame'>\n",
      "RangeIndex: 76051 entries, 0 to 76050\n",
      "Data columns (total 3 columns):\n",
      " #   Column        Non-Null Count  Dtype \n",
      "---  ------        --------------  ----- \n",
      " 0   id            76051 non-null  object\n",
      " 1   user_id       76051 non-null  int64 \n",
      " 2   message_date  76051 non-null  object\n",
      "dtypes: int64(1), object(2)\n",
      "memory usage: 1.7+ MB\n"
     ]
    }
   ],
   "source": [
    "df_messages.info()"
   ]
  },
  {
   "cell_type": "markdown",
   "metadata": {},
   "source": [
    "<li>tidak ada missing values pada 3 columns \n",
    "<li>dtype message_date perlu dirubah ke to_datetime. \n",
    "<li>dytpe id dapat menyulitkan analisa ke depan karena string. Jika diperlukan akan dirubah menjadi interger."
   ]
  },
  {
   "cell_type": "code",
   "execution_count": 15,
   "metadata": {},
   "outputs": [
    {
     "data": {
      "text/html": [
       "<div>\n",
       "<style scoped>\n",
       "    .dataframe tbody tr th:only-of-type {\n",
       "        vertical-align: middle;\n",
       "    }\n",
       "\n",
       "    .dataframe tbody tr th {\n",
       "        vertical-align: top;\n",
       "    }\n",
       "\n",
       "    .dataframe thead th {\n",
       "        text-align: right;\n",
       "    }\n",
       "</style>\n",
       "<table border=\"1\" class=\"dataframe\">\n",
       "  <thead>\n",
       "    <tr style=\"text-align: right;\">\n",
       "      <th></th>\n",
       "      <th>user_id</th>\n",
       "    </tr>\n",
       "  </thead>\n",
       "  <tbody>\n",
       "    <tr>\n",
       "      <th>count</th>\n",
       "      <td>76051.000000</td>\n",
       "    </tr>\n",
       "    <tr>\n",
       "      <th>mean</th>\n",
       "      <td>1245.972768</td>\n",
       "    </tr>\n",
       "    <tr>\n",
       "      <th>std</th>\n",
       "      <td>139.843635</td>\n",
       "    </tr>\n",
       "    <tr>\n",
       "      <th>min</th>\n",
       "      <td>1000.000000</td>\n",
       "    </tr>\n",
       "    <tr>\n",
       "      <th>25%</th>\n",
       "      <td>1123.000000</td>\n",
       "    </tr>\n",
       "    <tr>\n",
       "      <th>50%</th>\n",
       "      <td>1251.000000</td>\n",
       "    </tr>\n",
       "    <tr>\n",
       "      <th>75%</th>\n",
       "      <td>1362.000000</td>\n",
       "    </tr>\n",
       "    <tr>\n",
       "      <th>max</th>\n",
       "      <td>1497.000000</td>\n",
       "    </tr>\n",
       "  </tbody>\n",
       "</table>\n",
       "</div>"
      ],
      "text/plain": [
       "            user_id\n",
       "count  76051.000000\n",
       "mean    1245.972768\n",
       "std      139.843635\n",
       "min     1000.000000\n",
       "25%     1123.000000\n",
       "50%     1251.000000\n",
       "75%     1362.000000\n",
       "max     1497.000000"
      ]
     },
     "execution_count": 15,
     "metadata": {},
     "output_type": "execute_result"
    }
   ],
   "source": [
    "df_messages.describe()"
   ]
  },
  {
   "cell_type": "markdown",
   "metadata": {},
   "source": [
    "nilai max user_id adalah 1497 berarti ada 2 users yang tidak mengirimkan SMS."
   ]
  },
  {
   "cell_type": "markdown",
   "metadata": {},
   "source": [
    "__DF_INTERNET__"
   ]
  },
  {
   "cell_type": "code",
   "execution_count": 16,
   "metadata": {},
   "outputs": [
    {
     "data": {
      "text/html": [
       "<div>\n",
       "<style scoped>\n",
       "    .dataframe tbody tr th:only-of-type {\n",
       "        vertical-align: middle;\n",
       "    }\n",
       "\n",
       "    .dataframe tbody tr th {\n",
       "        vertical-align: top;\n",
       "    }\n",
       "\n",
       "    .dataframe thead th {\n",
       "        text-align: right;\n",
       "    }\n",
       "</style>\n",
       "<table border=\"1\" class=\"dataframe\">\n",
       "  <thead>\n",
       "    <tr style=\"text-align: right;\">\n",
       "      <th></th>\n",
       "      <th>id</th>\n",
       "      <th>user_id</th>\n",
       "      <th>session_date</th>\n",
       "      <th>mb_used</th>\n",
       "    </tr>\n",
       "  </thead>\n",
       "  <tbody>\n",
       "    <tr>\n",
       "      <th>0</th>\n",
       "      <td>1000_13</td>\n",
       "      <td>1000</td>\n",
       "      <td>2018-12-29</td>\n",
       "      <td>89.86</td>\n",
       "    </tr>\n",
       "    <tr>\n",
       "      <th>1</th>\n",
       "      <td>1000_204</td>\n",
       "      <td>1000</td>\n",
       "      <td>2018-12-31</td>\n",
       "      <td>0.00</td>\n",
       "    </tr>\n",
       "    <tr>\n",
       "      <th>2</th>\n",
       "      <td>1000_379</td>\n",
       "      <td>1000</td>\n",
       "      <td>2018-12-28</td>\n",
       "      <td>660.40</td>\n",
       "    </tr>\n",
       "    <tr>\n",
       "      <th>3</th>\n",
       "      <td>1000_413</td>\n",
       "      <td>1000</td>\n",
       "      <td>2018-12-26</td>\n",
       "      <td>270.99</td>\n",
       "    </tr>\n",
       "    <tr>\n",
       "      <th>4</th>\n",
       "      <td>1000_442</td>\n",
       "      <td>1000</td>\n",
       "      <td>2018-12-27</td>\n",
       "      <td>880.22</td>\n",
       "    </tr>\n",
       "  </tbody>\n",
       "</table>\n",
       "</div>"
      ],
      "text/plain": [
       "         id  user_id session_date  mb_used\n",
       "0   1000_13     1000   2018-12-29    89.86\n",
       "1  1000_204     1000   2018-12-31     0.00\n",
       "2  1000_379     1000   2018-12-28   660.40\n",
       "3  1000_413     1000   2018-12-26   270.99\n",
       "4  1000_442     1000   2018-12-27   880.22"
      ]
     },
     "execution_count": 16,
     "metadata": {},
     "output_type": "execute_result"
    }
   ],
   "source": [
    "df_internet.head()"
   ]
  },
  {
   "cell_type": "markdown",
   "metadata": {},
   "source": [
    "<li>ada nilai null pada mb_used artinya ada user yang tidak ada volume data selama sesi\n",
    "<li>nilai mb_used sesuai instruksi harus dibulatkan ke atas dengan satuan GB"
   ]
  },
  {
   "cell_type": "code",
   "execution_count": 17,
   "metadata": {},
   "outputs": [
    {
     "name": "stdout",
     "output_type": "stream",
     "text": [
      "<class 'pandas.core.frame.DataFrame'>\n",
      "RangeIndex: 104825 entries, 0 to 104824\n",
      "Data columns (total 4 columns):\n",
      " #   Column        Non-Null Count   Dtype  \n",
      "---  ------        --------------   -----  \n",
      " 0   id            104825 non-null  object \n",
      " 1   user_id       104825 non-null  int64  \n",
      " 2   session_date  104825 non-null  object \n",
      " 3   mb_used       104825 non-null  float64\n",
      "dtypes: float64(1), int64(1), object(2)\n",
      "memory usage: 3.2+ MB\n"
     ]
    }
   ],
   "source": [
    "df_internet.info()"
   ]
  },
  {
   "cell_type": "markdown",
   "metadata": {},
   "source": [
    "<li>tidak ada missing values pada 4 columns yang ada\n",
    "<li>dtypes id (mungkin) akan dirubah menjadi integer untuk memudahkan perhitungan\n",
    "<li>dtypes session_date akan dirubah menjadi to_datetime agar dapat dilihat days, months dan years.  "
   ]
  },
  {
   "cell_type": "code",
   "execution_count": 18,
   "metadata": {},
   "outputs": [
    {
     "data": {
      "text/html": [
       "<div>\n",
       "<style scoped>\n",
       "    .dataframe tbody tr th:only-of-type {\n",
       "        vertical-align: middle;\n",
       "    }\n",
       "\n",
       "    .dataframe tbody tr th {\n",
       "        vertical-align: top;\n",
       "    }\n",
       "\n",
       "    .dataframe thead th {\n",
       "        text-align: right;\n",
       "    }\n",
       "</style>\n",
       "<table border=\"1\" class=\"dataframe\">\n",
       "  <thead>\n",
       "    <tr style=\"text-align: right;\">\n",
       "      <th></th>\n",
       "      <th>user_id</th>\n",
       "      <th>mb_used</th>\n",
       "    </tr>\n",
       "  </thead>\n",
       "  <tbody>\n",
       "    <tr>\n",
       "      <th>count</th>\n",
       "      <td>104825.000000</td>\n",
       "      <td>104825.000000</td>\n",
       "    </tr>\n",
       "    <tr>\n",
       "      <th>mean</th>\n",
       "      <td>1242.496361</td>\n",
       "      <td>366.713701</td>\n",
       "    </tr>\n",
       "    <tr>\n",
       "      <th>std</th>\n",
       "      <td>142.053913</td>\n",
       "      <td>277.170542</td>\n",
       "    </tr>\n",
       "    <tr>\n",
       "      <th>min</th>\n",
       "      <td>1000.000000</td>\n",
       "      <td>0.000000</td>\n",
       "    </tr>\n",
       "    <tr>\n",
       "      <th>25%</th>\n",
       "      <td>1122.000000</td>\n",
       "      <td>136.080000</td>\n",
       "    </tr>\n",
       "    <tr>\n",
       "      <th>50%</th>\n",
       "      <td>1236.000000</td>\n",
       "      <td>343.980000</td>\n",
       "    </tr>\n",
       "    <tr>\n",
       "      <th>75%</th>\n",
       "      <td>1367.000000</td>\n",
       "      <td>554.610000</td>\n",
       "    </tr>\n",
       "    <tr>\n",
       "      <th>max</th>\n",
       "      <td>1499.000000</td>\n",
       "      <td>1693.470000</td>\n",
       "    </tr>\n",
       "  </tbody>\n",
       "</table>\n",
       "</div>"
      ],
      "text/plain": [
       "             user_id        mb_used\n",
       "count  104825.000000  104825.000000\n",
       "mean     1242.496361     366.713701\n",
       "std       142.053913     277.170542\n",
       "min      1000.000000       0.000000\n",
       "25%      1122.000000     136.080000\n",
       "50%      1236.000000     343.980000\n",
       "75%      1367.000000     554.610000\n",
       "max      1499.000000    1693.470000"
      ]
     },
     "execution_count": 18,
     "metadata": {},
     "output_type": "execute_result"
    }
   ],
   "source": [
    "df_internet.describe()"
   ]
  },
  {
   "cell_type": "code",
   "execution_count": 19,
   "metadata": {},
   "outputs": [
    {
     "data": {
      "text/plain": [
       "<AxesSubplot:>"
      ]
     },
     "execution_count": 19,
     "metadata": {},
     "output_type": "execute_result"
    },
    {
     "data": {
      "image/png": "[encoded data removed]",
      "text/plain": [
       "<Figure size 432x288 with 1 Axes>"
      ]
     },
     "metadata": {
      "needs_background": "light"
     },
     "output_type": "display_data"
    }
   ],
   "source": [
    "df_internet.mb_used.plot(kind='box')"
   ]
  },
  {
   "cell_type": "code",
   "execution_count": 20,
   "metadata": {},
   "outputs": [
    {
     "data": {
      "image/png": "[encoded data removed]",
      "text/plain": [
       "<Figure size 648x432 with 1 Axes>"
      ]
     },
     "metadata": {
      "needs_background": "light"
     },
     "output_type": "display_data"
    }
   ],
   "source": [
    "plt.figure(figsize=(9,6))\n",
    "sns.histplot(df_internet['mb_used'], bins=50, kde=True)\n",
    "plt.xlabel('mb_used')\n",
    "plt.ylabel('user_id')\n",
    "plt.title('MB USED')\n",
    "plt.show()"
   ]
  },
  {
   "cell_type": "code",
   "execution_count": 21,
   "metadata": {},
   "outputs": [
    {
     "data": {
      "text/plain": [
       "0.00      13747\n",
       "414.46        8\n",
       "435.77        8\n",
       "423.06        7\n",
       "313.79        7\n",
       "          ...  \n",
       "301.21        1\n",
       "108.62        1\n",
       "608.63        1\n",
       "212.02        1\n",
       "677.66        1\n",
       "Name: mb_used, Length: 57624, dtype: int64"
      ]
     },
     "execution_count": 21,
     "metadata": {},
     "output_type": "execute_result"
    }
   ],
   "source": [
    "df_internet.mb_used.value_counts()"
   ]
  },
  {
   "cell_type": "code",
   "execution_count": 22,
   "metadata": {},
   "outputs": [
    {
     "data": {
      "text/plain": [
       "id        user_id  session_date  mb_used\n",
       "1000_379  1000     2018-12-28    660.40     1\n",
       "1327_56   1327     2018-12-18    1141.08    1\n",
       "1327_77   1327     2018-09-10    609.36     1\n",
       "1327_76   1327     2018-10-05    786.76     1\n",
       "1327_72   1327     2018-11-20    1332.18    1\n",
       "                                           ..\n",
       "1156_153  1156     2018-07-16    688.97     1\n",
       "1156_151  1156     2018-12-04    780.87     1\n",
       "1156_144  1156     2018-04-28    726.68     1\n",
       "1156_143  1156     2018-06-06    637.51     1\n",
       "1499_91   1499     2018-09-29    558.03     1\n",
       "Length: 26205, dtype: int64"
      ]
     },
     "execution_count": 22,
     "metadata": {},
     "output_type": "execute_result"
    }
   ],
   "source": [
    "df_internet.loc[df_internet['mb_used']>554.61].value_counts()"
   ]
  },
  {
   "cell_type": "markdown",
   "metadata": {},
   "source": [
    "<li>nilai mean dan median hanya berbeda 22.8MB artinya outliers tidak significant. Hal ini dapat terjadi walaupun jumlah outliers ada sekitar 25% namun jumlah users yang tidak menggunakan (dihabiskan) volume data selama sesi cukup banyak yaitu 13747 baris data."
   ]
  },
  {
   "cell_type": "markdown",
   "metadata": {},
   "source": [
    "__DF_PLANS__"
   ]
  },
  {
   "cell_type": "code",
   "execution_count": 23,
   "metadata": {},
   "outputs": [
    {
     "data": {
      "text/html": [
       "<div>\n",
       "<style scoped>\n",
       "    .dataframe tbody tr th:only-of-type {\n",
       "        vertical-align: middle;\n",
       "    }\n",
       "\n",
       "    .dataframe tbody tr th {\n",
       "        vertical-align: top;\n",
       "    }\n",
       "\n",
       "    .dataframe thead th {\n",
       "        text-align: right;\n",
       "    }\n",
       "</style>\n",
       "<table border=\"1\" class=\"dataframe\">\n",
       "  <thead>\n",
       "    <tr style=\"text-align: right;\">\n",
       "      <th></th>\n",
       "      <th>messages_included</th>\n",
       "      <th>mb_per_month_included</th>\n",
       "      <th>minutes_included</th>\n",
       "      <th>usd_monthly_pay</th>\n",
       "      <th>usd_per_gb</th>\n",
       "      <th>usd_per_message</th>\n",
       "      <th>usd_per_minute</th>\n",
       "      <th>plan_name</th>\n",
       "    </tr>\n",
       "  </thead>\n",
       "  <tbody>\n",
       "    <tr>\n",
       "      <th>0</th>\n",
       "      <td>50</td>\n",
       "      <td>15360</td>\n",
       "      <td>500</td>\n",
       "      <td>20</td>\n",
       "      <td>10</td>\n",
       "      <td>0.03</td>\n",
       "      <td>0.03</td>\n",
       "      <td>surf</td>\n",
       "    </tr>\n",
       "    <tr>\n",
       "      <th>1</th>\n",
       "      <td>1000</td>\n",
       "      <td>30720</td>\n",
       "      <td>3000</td>\n",
       "      <td>70</td>\n",
       "      <td>7</td>\n",
       "      <td>0.01</td>\n",
       "      <td>0.01</td>\n",
       "      <td>ultimate</td>\n",
       "    </tr>\n",
       "  </tbody>\n",
       "</table>\n",
       "</div>"
      ],
      "text/plain": [
       "   messages_included  mb_per_month_included  minutes_included  \\\n",
       "0                 50                  15360               500   \n",
       "1               1000                  30720              3000   \n",
       "\n",
       "   usd_monthly_pay  usd_per_gb  usd_per_message  usd_per_minute plan_name  \n",
       "0               20          10             0.03            0.03      surf  \n",
       "1               70           7             0.01            0.01  ultimate  "
      ]
     },
     "execution_count": 23,
     "metadata": {},
     "output_type": "execute_result"
    }
   ],
   "source": [
    "df_plans.head()"
   ]
  },
  {
   "cell_type": "code",
   "execution_count": 24,
   "metadata": {},
   "outputs": [
    {
     "name": "stdout",
     "output_type": "stream",
     "text": [
      "<class 'pandas.core.frame.DataFrame'>\n",
      "RangeIndex: 2 entries, 0 to 1\n",
      "Data columns (total 8 columns):\n",
      " #   Column                 Non-Null Count  Dtype  \n",
      "---  ------                 --------------  -----  \n",
      " 0   messages_included      2 non-null      int64  \n",
      " 1   mb_per_month_included  2 non-null      int64  \n",
      " 2   minutes_included       2 non-null      int64  \n",
      " 3   usd_monthly_pay        2 non-null      int64  \n",
      " 4   usd_per_gb             2 non-null      int64  \n",
      " 5   usd_per_message        2 non-null      float64\n",
      " 6   usd_per_minute         2 non-null      float64\n",
      " 7   plan_name              2 non-null      object \n",
      "dtypes: float64(2), int64(5), object(1)\n",
      "memory usage: 256.0+ bytes\n"
     ]
    }
   ],
   "source": [
    "df_plans.info()"
   ]
  },
  {
   "cell_type": "markdown",
   "metadata": {},
   "source": [
    "Tidak ada missing values dan tidak ada masalah dengan data ini. "
   ]
  },
  {
   "cell_type": "markdown",
   "metadata": {},
   "source": [
    "__PROCESSING__"
   ]
  },
  {
   "cell_type": "markdown",
   "metadata": {},
   "source": [
    "__MERUBAH OBJECT TO_DATETIME__"
   ]
  },
  {
   "cell_type": "code",
   "execution_count": 25,
   "metadata": {},
   "outputs": [],
   "source": [
    "for df in [df_users, df_messages, df_calls, df_internet]:\n",
    "    for col in ['reg_date','churn_date','message_date','call_date','session_date']:\n",
    "        if col in df.columns:\n",
    "            df[col] = pd.to_datetime(df[col])"
   ]
  },
  {
   "cell_type": "code",
   "execution_count": 26,
   "metadata": {},
   "outputs": [
    {
     "name": "stdout",
     "output_type": "stream",
     "text": [
      "<class 'pandas.core.frame.DataFrame'>\n",
      "RangeIndex: 500 entries, 0 to 499\n",
      "Data columns (total 8 columns):\n",
      " #   Column      Non-Null Count  Dtype         \n",
      "---  ------      --------------  -----         \n",
      " 0   user_id     500 non-null    int64         \n",
      " 1   first_name  500 non-null    object        \n",
      " 2   last_name   500 non-null    object        \n",
      " 3   age         500 non-null    int64         \n",
      " 4   city        500 non-null    object        \n",
      " 5   reg_date    500 non-null    datetime64[ns]\n",
      " 6   plan        500 non-null    object        \n",
      " 7   churn_date  34 non-null     datetime64[ns]\n",
      "dtypes: datetime64[ns](2), int64(2), object(4)\n",
      "memory usage: 31.4+ KB\n"
     ]
    }
   ],
   "source": [
    "df_users.info()"
   ]
  },
  {
   "cell_type": "code",
   "execution_count": 27,
   "metadata": {},
   "outputs": [
    {
     "name": "stdout",
     "output_type": "stream",
     "text": [
      "<class 'pandas.core.frame.DataFrame'>\n",
      "RangeIndex: 76051 entries, 0 to 76050\n",
      "Data columns (total 3 columns):\n",
      " #   Column        Non-Null Count  Dtype         \n",
      "---  ------        --------------  -----         \n",
      " 0   id            76051 non-null  object        \n",
      " 1   user_id       76051 non-null  int64         \n",
      " 2   message_date  76051 non-null  datetime64[ns]\n",
      "dtypes: datetime64[ns](1), int64(1), object(1)\n",
      "memory usage: 1.7+ MB\n"
     ]
    }
   ],
   "source": [
    "df_messages.info()"
   ]
  },
  {
   "cell_type": "code",
   "execution_count": 28,
   "metadata": {},
   "outputs": [
    {
     "name": "stdout",
     "output_type": "stream",
     "text": [
      "<class 'pandas.core.frame.DataFrame'>\n",
      "RangeIndex: 137735 entries, 0 to 137734\n",
      "Data columns (total 4 columns):\n",
      " #   Column     Non-Null Count   Dtype         \n",
      "---  ------     --------------   -----         \n",
      " 0   id         137735 non-null  object        \n",
      " 1   user_id    137735 non-null  int64         \n",
      " 2   call_date  137735 non-null  datetime64[ns]\n",
      " 3   duration   137735 non-null  float64       \n",
      "dtypes: datetime64[ns](1), float64(1), int64(1), object(1)\n",
      "memory usage: 4.2+ MB\n"
     ]
    }
   ],
   "source": [
    "df_calls.info()"
   ]
  },
  {
   "cell_type": "code",
   "execution_count": 29,
   "metadata": {},
   "outputs": [
    {
     "name": "stdout",
     "output_type": "stream",
     "text": [
      "<class 'pandas.core.frame.DataFrame'>\n",
      "RangeIndex: 104825 entries, 0 to 104824\n",
      "Data columns (total 4 columns):\n",
      " #   Column        Non-Null Count   Dtype         \n",
      "---  ------        --------------   -----         \n",
      " 0   id            104825 non-null  object        \n",
      " 1   user_id       104825 non-null  int64         \n",
      " 2   session_date  104825 non-null  datetime64[ns]\n",
      " 3   mb_used       104825 non-null  float64       \n",
      "dtypes: datetime64[ns](1), float64(1), int64(1), object(1)\n",
      "memory usage: 3.2+ MB\n"
     ]
    }
   ],
   "source": [
    "df_internet.info()"
   ]
  },
  {
   "cell_type": "markdown",
   "metadata": {},
   "source": [
    "semua dtypes object data date telah dirubah dari string menjadi to_datetime"
   ]
  },
  {
   "cell_type": "markdown",
   "metadata": {},
   "source": [
    "__MISSING_VALUES__"
   ]
  },
  {
   "cell_type": "code",
   "execution_count": 30,
   "metadata": {},
   "outputs": [],
   "source": [
    "df_users.churn_date = df_users.churn_date.fillna('2018-12-31')"
   ]
  },
  {
   "cell_type": "code",
   "execution_count": 31,
   "metadata": {},
   "outputs": [],
   "source": [
    "df_users.churn_date = pd.to_datetime(df_users['churn_date'], format='%Y-%m-%d')"
   ]
  },
  {
   "cell_type": "code",
   "execution_count": 32,
   "metadata": {},
   "outputs": [
    {
     "data": {
      "text/plain": [
       "500"
      ]
     },
     "execution_count": 32,
     "metadata": {},
     "output_type": "execute_result"
    }
   ],
   "source": [
    "df_users.churn_date.count()"
   ]
  },
  {
   "cell_type": "markdown",
   "metadata": {},
   "source": [
    "missing values pada kolom churn_date sudah teratasi"
   ]
  },
  {
   "cell_type": "markdown",
   "metadata": {},
   "source": [
    "<div class=\"alert alert-block alert-success\">\n",
    "<b>Reviewer's comment v1</b> <a class=\"tocSkip\"></a>\n",
    "\n",
    "Mengisi nilai hilang `churn_date` dengan tanggal terakhir bisa diterima.\n",
    "</div>"
   ]
  },
  {
   "cell_type": "markdown",
   "metadata": {},
   "source": [
    "__MENGHILANGKAN DUPLIKAT (JIKA ADA)__"
   ]
  },
  {
   "cell_type": "code",
   "execution_count": 33,
   "metadata": {},
   "outputs": [
    {
     "name": "stdout",
     "output_type": "stream",
     "text": [
      "None\n",
      "None\n",
      "None\n",
      "None\n"
     ]
    }
   ],
   "source": [
    "result = []\n",
    "for df in [df_users, df_messages, df_calls, df_internet]:\n",
    "    print(result.append(df.duplicated().sum()))"
   ]
  },
  {
   "cell_type": "markdown",
   "metadata": {},
   "source": [
    "tidak ada duplikat data"
   ]
  },
  {
   "cell_type": "markdown",
   "metadata": {},
   "source": [
    "__MEMBULATKAN DETIK KE MENIT__"
   ]
  },
  {
   "cell_type": "code",
   "execution_count": 34,
   "metadata": {},
   "outputs": [],
   "source": [
    "df_calls['duration_up'] = df_calls['duration'].apply(np.ceil).astype(int)"
   ]
  },
  {
   "cell_type": "code",
   "execution_count": 35,
   "metadata": {},
   "outputs": [
    {
     "data": {
      "text/html": [
       "<div>\n",
       "<style scoped>\n",
       "    .dataframe tbody tr th:only-of-type {\n",
       "        vertical-align: middle;\n",
       "    }\n",
       "\n",
       "    .dataframe tbody tr th {\n",
       "        vertical-align: top;\n",
       "    }\n",
       "\n",
       "    .dataframe thead th {\n",
       "        text-align: right;\n",
       "    }\n",
       "</style>\n",
       "<table border=\"1\" class=\"dataframe\">\n",
       "  <thead>\n",
       "    <tr style=\"text-align: right;\">\n",
       "      <th></th>\n",
       "      <th>id</th>\n",
       "      <th>user_id</th>\n",
       "      <th>call_date</th>\n",
       "      <th>duration</th>\n",
       "      <th>duration_up</th>\n",
       "    </tr>\n",
       "  </thead>\n",
       "  <tbody>\n",
       "    <tr>\n",
       "      <th>0</th>\n",
       "      <td>1000_93</td>\n",
       "      <td>1000</td>\n",
       "      <td>2018-12-27</td>\n",
       "      <td>8.52</td>\n",
       "      <td>9</td>\n",
       "    </tr>\n",
       "    <tr>\n",
       "      <th>1</th>\n",
       "      <td>1000_145</td>\n",
       "      <td>1000</td>\n",
       "      <td>2018-12-27</td>\n",
       "      <td>13.66</td>\n",
       "      <td>14</td>\n",
       "    </tr>\n",
       "    <tr>\n",
       "      <th>2</th>\n",
       "      <td>1000_247</td>\n",
       "      <td>1000</td>\n",
       "      <td>2018-12-27</td>\n",
       "      <td>14.48</td>\n",
       "      <td>15</td>\n",
       "    </tr>\n",
       "    <tr>\n",
       "      <th>3</th>\n",
       "      <td>1000_309</td>\n",
       "      <td>1000</td>\n",
       "      <td>2018-12-28</td>\n",
       "      <td>5.76</td>\n",
       "      <td>6</td>\n",
       "    </tr>\n",
       "    <tr>\n",
       "      <th>4</th>\n",
       "      <td>1000_380</td>\n",
       "      <td>1000</td>\n",
       "      <td>2018-12-30</td>\n",
       "      <td>4.22</td>\n",
       "      <td>5</td>\n",
       "    </tr>\n",
       "  </tbody>\n",
       "</table>\n",
       "</div>"
      ],
      "text/plain": [
       "         id  user_id  call_date  duration  duration_up\n",
       "0   1000_93     1000 2018-12-27      8.52            9\n",
       "1  1000_145     1000 2018-12-27     13.66           14\n",
       "2  1000_247     1000 2018-12-27     14.48           15\n",
       "3  1000_309     1000 2018-12-28      5.76            6\n",
       "4  1000_380     1000 2018-12-30      4.22            5"
      ]
     },
     "execution_count": 35,
     "metadata": {},
     "output_type": "execute_result"
    }
   ],
   "source": [
    "df_calls.head()"
   ]
  },
  {
   "cell_type": "code",
   "execution_count": 36,
   "metadata": {},
   "outputs": [
    {
     "data": {
      "text/html": [
       "<div>\n",
       "<style scoped>\n",
       "    .dataframe tbody tr th:only-of-type {\n",
       "        vertical-align: middle;\n",
       "    }\n",
       "\n",
       "    .dataframe tbody tr th {\n",
       "        vertical-align: top;\n",
       "    }\n",
       "\n",
       "    .dataframe thead th {\n",
       "        text-align: right;\n",
       "    }\n",
       "</style>\n",
       "<table border=\"1\" class=\"dataframe\">\n",
       "  <thead>\n",
       "    <tr style=\"text-align: right;\">\n",
       "      <th></th>\n",
       "      <th>id</th>\n",
       "      <th>user_id</th>\n",
       "      <th>call_date</th>\n",
       "      <th>duration</th>\n",
       "      <th>duration_up</th>\n",
       "    </tr>\n",
       "  </thead>\n",
       "  <tbody>\n",
       "    <tr>\n",
       "      <th>19</th>\n",
       "      <td>1001_4</td>\n",
       "      <td>1001</td>\n",
       "      <td>2018-12-05</td>\n",
       "      <td>0.0</td>\n",
       "      <td>0</td>\n",
       "    </tr>\n",
       "    <tr>\n",
       "      <th>25</th>\n",
       "      <td>1001_13</td>\n",
       "      <td>1001</td>\n",
       "      <td>2018-12-24</td>\n",
       "      <td>0.0</td>\n",
       "      <td>0</td>\n",
       "    </tr>\n",
       "    <tr>\n",
       "      <th>31</th>\n",
       "      <td>1001_30</td>\n",
       "      <td>1001</td>\n",
       "      <td>2018-10-17</td>\n",
       "      <td>0.0</td>\n",
       "      <td>0</td>\n",
       "    </tr>\n",
       "    <tr>\n",
       "      <th>32</th>\n",
       "      <td>1001_31</td>\n",
       "      <td>1001</td>\n",
       "      <td>2018-11-03</td>\n",
       "      <td>0.0</td>\n",
       "      <td>0</td>\n",
       "    </tr>\n",
       "    <tr>\n",
       "      <th>34</th>\n",
       "      <td>1001_35</td>\n",
       "      <td>1001</td>\n",
       "      <td>2018-12-21</td>\n",
       "      <td>0.0</td>\n",
       "      <td>0</td>\n",
       "    </tr>\n",
       "    <tr>\n",
       "      <th>...</th>\n",
       "      <td>...</td>\n",
       "      <td>...</td>\n",
       "      <td>...</td>\n",
       "      <td>...</td>\n",
       "      <td>...</td>\n",
       "    </tr>\n",
       "    <tr>\n",
       "      <th>137714</th>\n",
       "      <td>1499_183</td>\n",
       "      <td>1499</td>\n",
       "      <td>2018-11-10</td>\n",
       "      <td>0.0</td>\n",
       "      <td>0</td>\n",
       "    </tr>\n",
       "    <tr>\n",
       "      <th>137715</th>\n",
       "      <td>1499_184</td>\n",
       "      <td>1499</td>\n",
       "      <td>2018-09-15</td>\n",
       "      <td>0.0</td>\n",
       "      <td>0</td>\n",
       "    </tr>\n",
       "    <tr>\n",
       "      <th>137720</th>\n",
       "      <td>1499_189</td>\n",
       "      <td>1499</td>\n",
       "      <td>2018-12-27</td>\n",
       "      <td>0.0</td>\n",
       "      <td>0</td>\n",
       "    </tr>\n",
       "    <tr>\n",
       "      <th>137722</th>\n",
       "      <td>1499_191</td>\n",
       "      <td>1499</td>\n",
       "      <td>2018-12-24</td>\n",
       "      <td>0.0</td>\n",
       "      <td>0</td>\n",
       "    </tr>\n",
       "    <tr>\n",
       "      <th>137725</th>\n",
       "      <td>1499_194</td>\n",
       "      <td>1499</td>\n",
       "      <td>2018-10-31</td>\n",
       "      <td>0.0</td>\n",
       "      <td>0</td>\n",
       "    </tr>\n",
       "  </tbody>\n",
       "</table>\n",
       "<p>26834 rows × 5 columns</p>\n",
       "</div>"
      ],
      "text/plain": [
       "              id  user_id  call_date  duration  duration_up\n",
       "19        1001_4     1001 2018-12-05       0.0            0\n",
       "25       1001_13     1001 2018-12-24       0.0            0\n",
       "31       1001_30     1001 2018-10-17       0.0            0\n",
       "32       1001_31     1001 2018-11-03       0.0            0\n",
       "34       1001_35     1001 2018-12-21       0.0            0\n",
       "...          ...      ...        ...       ...          ...\n",
       "137714  1499_183     1499 2018-11-10       0.0            0\n",
       "137715  1499_184     1499 2018-09-15       0.0            0\n",
       "137720  1499_189     1499 2018-12-27       0.0            0\n",
       "137722  1499_191     1499 2018-12-24       0.0            0\n",
       "137725  1499_194     1499 2018-10-31       0.0            0\n",
       "\n",
       "[26834 rows x 5 columns]"
      ]
     },
     "execution_count": 36,
     "metadata": {},
     "output_type": "execute_result"
    }
   ],
   "source": [
    "df_calls.loc[df_calls['duration_up']==0]"
   ]
  },
  {
   "cell_type": "markdown",
   "metadata": {},
   "source": [
    "__MEMBULATKAN MB MENJADI GB__"
   ]
  },
  {
   "cell_type": "code",
   "execution_count": 37,
   "metadata": {},
   "outputs": [],
   "source": [
    "df_internet['gb_used']=np.ceil((df_internet['mb_used'].values)/1024).astype(int)"
   ]
  },
  {
   "cell_type": "code",
   "execution_count": 38,
   "metadata": {},
   "outputs": [
    {
     "data": {
      "text/html": [
       "<div>\n",
       "<style scoped>\n",
       "    .dataframe tbody tr th:only-of-type {\n",
       "        vertical-align: middle;\n",
       "    }\n",
       "\n",
       "    .dataframe tbody tr th {\n",
       "        vertical-align: top;\n",
       "    }\n",
       "\n",
       "    .dataframe thead th {\n",
       "        text-align: right;\n",
       "    }\n",
       "</style>\n",
       "<table border=\"1\" class=\"dataframe\">\n",
       "  <thead>\n",
       "    <tr style=\"text-align: right;\">\n",
       "      <th></th>\n",
       "      <th>id</th>\n",
       "      <th>user_id</th>\n",
       "      <th>session_date</th>\n",
       "      <th>mb_used</th>\n",
       "      <th>gb_used</th>\n",
       "    </tr>\n",
       "  </thead>\n",
       "  <tbody>\n",
       "    <tr>\n",
       "      <th>17</th>\n",
       "      <td>1001_29</td>\n",
       "      <td>1001</td>\n",
       "      <td>2018-10-09</td>\n",
       "      <td>1067.99</td>\n",
       "      <td>2</td>\n",
       "    </tr>\n",
       "    <tr>\n",
       "      <th>81</th>\n",
       "      <td>1001_151</td>\n",
       "      <td>1001</td>\n",
       "      <td>2018-10-19</td>\n",
       "      <td>1123.93</td>\n",
       "      <td>2</td>\n",
       "    </tr>\n",
       "    <tr>\n",
       "      <th>108</th>\n",
       "      <td>1001_199</td>\n",
       "      <td>1001</td>\n",
       "      <td>2018-12-18</td>\n",
       "      <td>1119.44</td>\n",
       "      <td>2</td>\n",
       "    </tr>\n",
       "    <tr>\n",
       "      <th>112</th>\n",
       "      <td>1001_210</td>\n",
       "      <td>1001</td>\n",
       "      <td>2018-09-19</td>\n",
       "      <td>1174.73</td>\n",
       "      <td>2</td>\n",
       "    </tr>\n",
       "    <tr>\n",
       "      <th>125</th>\n",
       "      <td>1001_228</td>\n",
       "      <td>1001</td>\n",
       "      <td>2018-11-09</td>\n",
       "      <td>1049.78</td>\n",
       "      <td>2</td>\n",
       "    </tr>\n",
       "    <tr>\n",
       "      <th>...</th>\n",
       "      <td>...</td>\n",
       "      <td>...</td>\n",
       "      <td>...</td>\n",
       "      <td>...</td>\n",
       "      <td>...</td>\n",
       "    </tr>\n",
       "    <tr>\n",
       "      <th>104354</th>\n",
       "      <td>1498_427</td>\n",
       "      <td>1498</td>\n",
       "      <td>2018-10-18</td>\n",
       "      <td>1068.56</td>\n",
       "      <td>2</td>\n",
       "    </tr>\n",
       "    <tr>\n",
       "      <th>104676</th>\n",
       "      <td>1499_71</td>\n",
       "      <td>1499</td>\n",
       "      <td>2018-10-16</td>\n",
       "      <td>1039.08</td>\n",
       "      <td>2</td>\n",
       "    </tr>\n",
       "    <tr>\n",
       "      <th>104695</th>\n",
       "      <td>1499_90</td>\n",
       "      <td>1499</td>\n",
       "      <td>2018-12-22</td>\n",
       "      <td>1444.97</td>\n",
       "      <td>2</td>\n",
       "    </tr>\n",
       "    <tr>\n",
       "      <th>104733</th>\n",
       "      <td>1499_128</td>\n",
       "      <td>1499</td>\n",
       "      <td>2018-11-18</td>\n",
       "      <td>1232.86</td>\n",
       "      <td>2</td>\n",
       "    </tr>\n",
       "    <tr>\n",
       "      <th>104743</th>\n",
       "      <td>1499_138</td>\n",
       "      <td>1499</td>\n",
       "      <td>2018-10-21</td>\n",
       "      <td>1085.26</td>\n",
       "      <td>2</td>\n",
       "    </tr>\n",
       "  </tbody>\n",
       "</table>\n",
       "<p>1641 rows × 5 columns</p>\n",
       "</div>"
      ],
      "text/plain": [
       "              id  user_id session_date  mb_used  gb_used\n",
       "17       1001_29     1001   2018-10-09  1067.99        2\n",
       "81      1001_151     1001   2018-10-19  1123.93        2\n",
       "108     1001_199     1001   2018-12-18  1119.44        2\n",
       "112     1001_210     1001   2018-09-19  1174.73        2\n",
       "125     1001_228     1001   2018-11-09  1049.78        2\n",
       "...          ...      ...          ...      ...      ...\n",
       "104354  1498_427     1498   2018-10-18  1068.56        2\n",
       "104676   1499_71     1499   2018-10-16  1039.08        2\n",
       "104695   1499_90     1499   2018-12-22  1444.97        2\n",
       "104733  1499_128     1499   2018-11-18  1232.86        2\n",
       "104743  1499_138     1499   2018-10-21  1085.26        2\n",
       "\n",
       "[1641 rows x 5 columns]"
      ]
     },
     "execution_count": 38,
     "metadata": {},
     "output_type": "execute_result"
    }
   ],
   "source": [
    "df_internet.loc[df_internet['mb_used']>1024]"
   ]
  },
  {
   "cell_type": "markdown",
   "metadata": {},
   "source": [
    "kolom date dari semua data terlihat acak karena user_id belum dikelompokkan. Pengelompokkan data akan mempermudah analisa. "
   ]
  },
  {
   "cell_type": "markdown",
   "metadata": {},
   "source": [
    "__PENGELOMPOKKAN DATA DF_CALLS__"
   ]
  },
  {
   "cell_type": "markdown",
   "metadata": {},
   "source": [
    "__CALLS per Month (Jumlah panggilan yang dilakukan dan menit yang digunakan per bulan)__"
   ]
  },
  {
   "cell_type": "code",
   "execution_count": 39,
   "metadata": {},
   "outputs": [
    {
     "data": {
      "text/html": [
       "<div>\n",
       "<style scoped>\n",
       "    .dataframe tbody tr th:only-of-type {\n",
       "        vertical-align: middle;\n",
       "    }\n",
       "\n",
       "    .dataframe tbody tr th {\n",
       "        vertical-align: top;\n",
       "    }\n",
       "\n",
       "    .dataframe thead th {\n",
       "        text-align: right;\n",
       "    }\n",
       "</style>\n",
       "<table border=\"1\" class=\"dataframe\">\n",
       "  <thead>\n",
       "    <tr style=\"text-align: right;\">\n",
       "      <th></th>\n",
       "      <th>id</th>\n",
       "      <th>user_id</th>\n",
       "      <th>call_date</th>\n",
       "      <th>duration</th>\n",
       "      <th>duration_up</th>\n",
       "    </tr>\n",
       "  </thead>\n",
       "  <tbody>\n",
       "    <tr>\n",
       "      <th>0</th>\n",
       "      <td>1000_93</td>\n",
       "      <td>1000</td>\n",
       "      <td>2018-12-27</td>\n",
       "      <td>8.52</td>\n",
       "      <td>9</td>\n",
       "    </tr>\n",
       "    <tr>\n",
       "      <th>1</th>\n",
       "      <td>1000_145</td>\n",
       "      <td>1000</td>\n",
       "      <td>2018-12-27</td>\n",
       "      <td>13.66</td>\n",
       "      <td>14</td>\n",
       "    </tr>\n",
       "    <tr>\n",
       "      <th>2</th>\n",
       "      <td>1000_247</td>\n",
       "      <td>1000</td>\n",
       "      <td>2018-12-27</td>\n",
       "      <td>14.48</td>\n",
       "      <td>15</td>\n",
       "    </tr>\n",
       "    <tr>\n",
       "      <th>3</th>\n",
       "      <td>1000_309</td>\n",
       "      <td>1000</td>\n",
       "      <td>2018-12-28</td>\n",
       "      <td>5.76</td>\n",
       "      <td>6</td>\n",
       "    </tr>\n",
       "    <tr>\n",
       "      <th>4</th>\n",
       "      <td>1000_380</td>\n",
       "      <td>1000</td>\n",
       "      <td>2018-12-30</td>\n",
       "      <td>4.22</td>\n",
       "      <td>5</td>\n",
       "    </tr>\n",
       "    <tr>\n",
       "      <th>5</th>\n",
       "      <td>1000_388</td>\n",
       "      <td>1000</td>\n",
       "      <td>2018-12-31</td>\n",
       "      <td>2.20</td>\n",
       "      <td>3</td>\n",
       "    </tr>\n",
       "    <tr>\n",
       "      <th>6</th>\n",
       "      <td>1000_510</td>\n",
       "      <td>1000</td>\n",
       "      <td>2018-12-27</td>\n",
       "      <td>5.75</td>\n",
       "      <td>6</td>\n",
       "    </tr>\n",
       "    <tr>\n",
       "      <th>7</th>\n",
       "      <td>1000_521</td>\n",
       "      <td>1000</td>\n",
       "      <td>2018-12-28</td>\n",
       "      <td>14.18</td>\n",
       "      <td>15</td>\n",
       "    </tr>\n",
       "    <tr>\n",
       "      <th>8</th>\n",
       "      <td>1000_530</td>\n",
       "      <td>1000</td>\n",
       "      <td>2018-12-28</td>\n",
       "      <td>5.77</td>\n",
       "      <td>6</td>\n",
       "    </tr>\n",
       "    <tr>\n",
       "      <th>9</th>\n",
       "      <td>1000_544</td>\n",
       "      <td>1000</td>\n",
       "      <td>2018-12-26</td>\n",
       "      <td>4.40</td>\n",
       "      <td>5</td>\n",
       "    </tr>\n",
       "    <tr>\n",
       "      <th>10</th>\n",
       "      <td>1000_693</td>\n",
       "      <td>1000</td>\n",
       "      <td>2018-12-31</td>\n",
       "      <td>4.31</td>\n",
       "      <td>5</td>\n",
       "    </tr>\n",
       "    <tr>\n",
       "      <th>11</th>\n",
       "      <td>1000_705</td>\n",
       "      <td>1000</td>\n",
       "      <td>2018-12-31</td>\n",
       "      <td>12.78</td>\n",
       "      <td>13</td>\n",
       "    </tr>\n",
       "    <tr>\n",
       "      <th>12</th>\n",
       "      <td>1000_735</td>\n",
       "      <td>1000</td>\n",
       "      <td>2018-12-29</td>\n",
       "      <td>1.70</td>\n",
       "      <td>2</td>\n",
       "    </tr>\n",
       "    <tr>\n",
       "      <th>13</th>\n",
       "      <td>1000_778</td>\n",
       "      <td>1000</td>\n",
       "      <td>2018-12-28</td>\n",
       "      <td>3.29</td>\n",
       "      <td>4</td>\n",
       "    </tr>\n",
       "    <tr>\n",
       "      <th>14</th>\n",
       "      <td>1000_826</td>\n",
       "      <td>1000</td>\n",
       "      <td>2018-12-26</td>\n",
       "      <td>9.96</td>\n",
       "      <td>10</td>\n",
       "    </tr>\n",
       "    <tr>\n",
       "      <th>15</th>\n",
       "      <td>1000_842</td>\n",
       "      <td>1000</td>\n",
       "      <td>2018-12-27</td>\n",
       "      <td>5.85</td>\n",
       "      <td>6</td>\n",
       "    </tr>\n",
       "  </tbody>\n",
       "</table>\n",
       "</div>"
      ],
      "text/plain": [
       "          id  user_id  call_date  duration  duration_up\n",
       "0    1000_93     1000 2018-12-27      8.52            9\n",
       "1   1000_145     1000 2018-12-27     13.66           14\n",
       "2   1000_247     1000 2018-12-27     14.48           15\n",
       "3   1000_309     1000 2018-12-28      5.76            6\n",
       "4   1000_380     1000 2018-12-30      4.22            5\n",
       "5   1000_388     1000 2018-12-31      2.20            3\n",
       "6   1000_510     1000 2018-12-27      5.75            6\n",
       "7   1000_521     1000 2018-12-28     14.18           15\n",
       "8   1000_530     1000 2018-12-28      5.77            6\n",
       "9   1000_544     1000 2018-12-26      4.40            5\n",
       "10  1000_693     1000 2018-12-31      4.31            5\n",
       "11  1000_705     1000 2018-12-31     12.78           13\n",
       "12  1000_735     1000 2018-12-29      1.70            2\n",
       "13  1000_778     1000 2018-12-28      3.29            4\n",
       "14  1000_826     1000 2018-12-26      9.96           10\n",
       "15  1000_842     1000 2018-12-27      5.85            6"
      ]
     },
     "execution_count": 39,
     "metadata": {},
     "output_type": "execute_result"
    }
   ],
   "source": [
    "df_calls.loc[df_calls['user_id']==1000]"
   ]
  },
  {
   "cell_type": "code",
   "execution_count": 40,
   "metadata": {},
   "outputs": [
    {
     "data": {
      "text/plain": [
       "124"
      ]
     },
     "execution_count": 40,
     "metadata": {},
     "output_type": "execute_result"
    }
   ],
   "source": [
    "df_calls.loc[df_calls['user_id']==1000]['duration_up'].sum()"
   ]
  },
  {
   "cell_type": "markdown",
   "metadata": {},
   "source": [
    "Contoh untuk user_id 1000 selama bulan desember 2018 ada total durasi panggilan 124 menit. Tabel data baru perlu dibuat dimana ada column user_id (dikelompokkan), month (extract dari column call_date) dan total pemakaian per bulan. Tapi pertama-tama column call_date dipecah menjadi month supaya mempermudah analisa data. "
   ]
  },
  {
   "cell_type": "code",
   "execution_count": 41,
   "metadata": {},
   "outputs": [],
   "source": [
    "df_calls['month']=df_calls['call_date'].dt.month "
   ]
  },
  {
   "cell_type": "code",
   "execution_count": 42,
   "metadata": {},
   "outputs": [
    {
     "data": {
      "text/html": [
       "<div>\n",
       "<style scoped>\n",
       "    .dataframe tbody tr th:only-of-type {\n",
       "        vertical-align: middle;\n",
       "    }\n",
       "\n",
       "    .dataframe tbody tr th {\n",
       "        vertical-align: top;\n",
       "    }\n",
       "\n",
       "    .dataframe thead th {\n",
       "        text-align: right;\n",
       "    }\n",
       "</style>\n",
       "<table border=\"1\" class=\"dataframe\">\n",
       "  <thead>\n",
       "    <tr style=\"text-align: right;\">\n",
       "      <th></th>\n",
       "      <th>id</th>\n",
       "      <th>user_id</th>\n",
       "      <th>call_date</th>\n",
       "      <th>duration</th>\n",
       "      <th>duration_up</th>\n",
       "      <th>month</th>\n",
       "    </tr>\n",
       "  </thead>\n",
       "  <tbody>\n",
       "    <tr>\n",
       "      <th>137730</th>\n",
       "      <td>1499_199</td>\n",
       "      <td>1499</td>\n",
       "      <td>2018-11-21</td>\n",
       "      <td>8.72</td>\n",
       "      <td>9</td>\n",
       "      <td>11</td>\n",
       "    </tr>\n",
       "    <tr>\n",
       "      <th>137731</th>\n",
       "      <td>1499_200</td>\n",
       "      <td>1499</td>\n",
       "      <td>2018-10-20</td>\n",
       "      <td>10.89</td>\n",
       "      <td>11</td>\n",
       "      <td>10</td>\n",
       "    </tr>\n",
       "    <tr>\n",
       "      <th>137732</th>\n",
       "      <td>1499_201</td>\n",
       "      <td>1499</td>\n",
       "      <td>2018-09-21</td>\n",
       "      <td>8.12</td>\n",
       "      <td>9</td>\n",
       "      <td>9</td>\n",
       "    </tr>\n",
       "    <tr>\n",
       "      <th>137733</th>\n",
       "      <td>1499_202</td>\n",
       "      <td>1499</td>\n",
       "      <td>2018-10-10</td>\n",
       "      <td>0.37</td>\n",
       "      <td>1</td>\n",
       "      <td>10</td>\n",
       "    </tr>\n",
       "    <tr>\n",
       "      <th>137734</th>\n",
       "      <td>1499_203</td>\n",
       "      <td>1499</td>\n",
       "      <td>2018-12-29</td>\n",
       "      <td>13.86</td>\n",
       "      <td>14</td>\n",
       "      <td>12</td>\n",
       "    </tr>\n",
       "  </tbody>\n",
       "</table>\n",
       "</div>"
      ],
      "text/plain": [
       "              id  user_id  call_date  duration  duration_up  month\n",
       "137730  1499_199     1499 2018-11-21      8.72            9     11\n",
       "137731  1499_200     1499 2018-10-20     10.89           11     10\n",
       "137732  1499_201     1499 2018-09-21      8.12            9      9\n",
       "137733  1499_202     1499 2018-10-10      0.37            1     10\n",
       "137734  1499_203     1499 2018-12-29     13.86           14     12"
      ]
     },
     "execution_count": 42,
     "metadata": {},
     "output_type": "execute_result"
    }
   ],
   "source": [
    "df_calls.tail()"
   ]
  },
  {
   "cell_type": "code",
   "execution_count": 43,
   "metadata": {},
   "outputs": [],
   "source": [
    "calls_monthly=df_calls.pivot_table(index=['user_id','month'],values='duration_up',aggfunc='sum')\n",
    "calls_monthly=calls_monthly.reset_index()\n",
    "calls_monthly.columns=['user_id','month','total_duration']"
   ]
  },
  {
   "cell_type": "code",
   "execution_count": 44,
   "metadata": {},
   "outputs": [
    {
     "data": {
      "text/html": [
       "<div>\n",
       "<style scoped>\n",
       "    .dataframe tbody tr th:only-of-type {\n",
       "        vertical-align: middle;\n",
       "    }\n",
       "\n",
       "    .dataframe tbody tr th {\n",
       "        vertical-align: top;\n",
       "    }\n",
       "\n",
       "    .dataframe thead th {\n",
       "        text-align: right;\n",
       "    }\n",
       "</style>\n",
       "<table border=\"1\" class=\"dataframe\">\n",
       "  <thead>\n",
       "    <tr style=\"text-align: right;\">\n",
       "      <th></th>\n",
       "      <th>user_id</th>\n",
       "      <th>month</th>\n",
       "      <th>total_duration</th>\n",
       "    </tr>\n",
       "  </thead>\n",
       "  <tbody>\n",
       "    <tr>\n",
       "      <th>0</th>\n",
       "      <td>1000</td>\n",
       "      <td>12</td>\n",
       "      <td>124</td>\n",
       "    </tr>\n",
       "    <tr>\n",
       "      <th>1</th>\n",
       "      <td>1001</td>\n",
       "      <td>8</td>\n",
       "      <td>182</td>\n",
       "    </tr>\n",
       "    <tr>\n",
       "      <th>2</th>\n",
       "      <td>1001</td>\n",
       "      <td>9</td>\n",
       "      <td>315</td>\n",
       "    </tr>\n",
       "    <tr>\n",
       "      <th>3</th>\n",
       "      <td>1001</td>\n",
       "      <td>10</td>\n",
       "      <td>393</td>\n",
       "    </tr>\n",
       "    <tr>\n",
       "      <th>4</th>\n",
       "      <td>1001</td>\n",
       "      <td>11</td>\n",
       "      <td>426</td>\n",
       "    </tr>\n",
       "  </tbody>\n",
       "</table>\n",
       "</div>"
      ],
      "text/plain": [
       "   user_id  month  total_duration\n",
       "0     1000     12             124\n",
       "1     1001      8             182\n",
       "2     1001      9             315\n",
       "3     1001     10             393\n",
       "4     1001     11             426"
      ]
     },
     "execution_count": 44,
     "metadata": {},
     "output_type": "execute_result"
    }
   ],
   "source": [
    "calls_monthly.head()"
   ]
  },
  {
   "cell_type": "markdown",
   "metadata": {},
   "source": [
    "jumlah panggilan yang dilakukan:"
   ]
  },
  {
   "cell_type": "code",
   "execution_count": 45,
   "metadata": {},
   "outputs": [],
   "source": [
    "calls_made_monthly = (df_calls.groupby(['user_id', 'month'])\n",
    "                   .agg({'id': 'count'}).rename(columns={'id': 'calls_made'})\n",
    "                  )"
   ]
  },
  {
   "cell_type": "code",
   "execution_count": 46,
   "metadata": {},
   "outputs": [
    {
     "data": {
      "text/html": [
       "<div>\n",
       "<style scoped>\n",
       "    .dataframe tbody tr th:only-of-type {\n",
       "        vertical-align: middle;\n",
       "    }\n",
       "\n",
       "    .dataframe tbody tr th {\n",
       "        vertical-align: top;\n",
       "    }\n",
       "\n",
       "    .dataframe thead th {\n",
       "        text-align: right;\n",
       "    }\n",
       "</style>\n",
       "<table border=\"1\" class=\"dataframe\">\n",
       "  <thead>\n",
       "    <tr style=\"text-align: right;\">\n",
       "      <th></th>\n",
       "      <th></th>\n",
       "      <th>calls_made</th>\n",
       "    </tr>\n",
       "    <tr>\n",
       "      <th>user_id</th>\n",
       "      <th>month</th>\n",
       "      <th></th>\n",
       "    </tr>\n",
       "  </thead>\n",
       "  <tbody>\n",
       "    <tr>\n",
       "      <th>1000</th>\n",
       "      <th>12</th>\n",
       "      <td>16</td>\n",
       "    </tr>\n",
       "    <tr>\n",
       "      <th rowspan=\"4\" valign=\"top\">1001</th>\n",
       "      <th>8</th>\n",
       "      <td>27</td>\n",
       "    </tr>\n",
       "    <tr>\n",
       "      <th>9</th>\n",
       "      <td>49</td>\n",
       "    </tr>\n",
       "    <tr>\n",
       "      <th>10</th>\n",
       "      <td>65</td>\n",
       "    </tr>\n",
       "    <tr>\n",
       "      <th>11</th>\n",
       "      <td>64</td>\n",
       "    </tr>\n",
       "  </tbody>\n",
       "</table>\n",
       "</div>"
      ],
      "text/plain": [
       "               calls_made\n",
       "user_id month            \n",
       "1000    12             16\n",
       "1001    8              27\n",
       "        9              49\n",
       "        10             65\n",
       "        11             64"
      ]
     },
     "execution_count": 46,
     "metadata": {},
     "output_type": "execute_result"
    }
   ],
   "source": [
    "calls_made_monthly.head()"
   ]
  },
  {
   "cell_type": "code",
   "execution_count": 47,
   "metadata": {},
   "outputs": [],
   "source": [
    "calls_monthly=(calls_made_monthly\n",
    "               .merge(calls_monthly,how='left',on=['user_id','month'])\n",
    "              )"
   ]
  },
  {
   "cell_type": "code",
   "execution_count": 48,
   "metadata": {},
   "outputs": [
    {
     "data": {
      "text/html": [
       "<div>\n",
       "<style scoped>\n",
       "    .dataframe tbody tr th:only-of-type {\n",
       "        vertical-align: middle;\n",
       "    }\n",
       "\n",
       "    .dataframe tbody tr th {\n",
       "        vertical-align: top;\n",
       "    }\n",
       "\n",
       "    .dataframe thead th {\n",
       "        text-align: right;\n",
       "    }\n",
       "</style>\n",
       "<table border=\"1\" class=\"dataframe\">\n",
       "  <thead>\n",
       "    <tr style=\"text-align: right;\">\n",
       "      <th></th>\n",
       "      <th>user_id</th>\n",
       "      <th>month</th>\n",
       "      <th>calls_made</th>\n",
       "      <th>total_duration</th>\n",
       "    </tr>\n",
       "  </thead>\n",
       "  <tbody>\n",
       "    <tr>\n",
       "      <th>0</th>\n",
       "      <td>1000</td>\n",
       "      <td>12</td>\n",
       "      <td>16</td>\n",
       "      <td>124</td>\n",
       "    </tr>\n",
       "    <tr>\n",
       "      <th>1</th>\n",
       "      <td>1001</td>\n",
       "      <td>8</td>\n",
       "      <td>27</td>\n",
       "      <td>182</td>\n",
       "    </tr>\n",
       "    <tr>\n",
       "      <th>2</th>\n",
       "      <td>1001</td>\n",
       "      <td>9</td>\n",
       "      <td>49</td>\n",
       "      <td>315</td>\n",
       "    </tr>\n",
       "    <tr>\n",
       "      <th>3</th>\n",
       "      <td>1001</td>\n",
       "      <td>10</td>\n",
       "      <td>65</td>\n",
       "      <td>393</td>\n",
       "    </tr>\n",
       "    <tr>\n",
       "      <th>4</th>\n",
       "      <td>1001</td>\n",
       "      <td>11</td>\n",
       "      <td>64</td>\n",
       "      <td>426</td>\n",
       "    </tr>\n",
       "  </tbody>\n",
       "</table>\n",
       "</div>"
      ],
      "text/plain": [
       "   user_id  month  calls_made  total_duration\n",
       "0     1000     12          16             124\n",
       "1     1001      8          27             182\n",
       "2     1001      9          49             315\n",
       "3     1001     10          65             393\n",
       "4     1001     11          64             426"
      ]
     },
     "execution_count": 48,
     "metadata": {},
     "output_type": "execute_result"
    }
   ],
   "source": [
    "calls_monthly.head()"
   ]
  },
  {
   "cell_type": "markdown",
   "metadata": {},
   "source": [
    "__MESSAGES per Month (Jumlah SMS yang dikirim per bulan)__"
   ]
  },
  {
   "cell_type": "markdown",
   "metadata": {},
   "source": [
    "seperti pada tabel df_calls, juga dibuat tabel baru dengan colum total message berdasarkan user_id"
   ]
  },
  {
   "cell_type": "code",
   "execution_count": 49,
   "metadata": {},
   "outputs": [
    {
     "data": {
      "text/html": [
       "<div>\n",
       "<style scoped>\n",
       "    .dataframe tbody tr th:only-of-type {\n",
       "        vertical-align: middle;\n",
       "    }\n",
       "\n",
       "    .dataframe tbody tr th {\n",
       "        vertical-align: top;\n",
       "    }\n",
       "\n",
       "    .dataframe thead th {\n",
       "        text-align: right;\n",
       "    }\n",
       "</style>\n",
       "<table border=\"1\" class=\"dataframe\">\n",
       "  <thead>\n",
       "    <tr style=\"text-align: right;\">\n",
       "      <th></th>\n",
       "      <th>id</th>\n",
       "      <th>user_id</th>\n",
       "      <th>message_date</th>\n",
       "    </tr>\n",
       "  </thead>\n",
       "  <tbody>\n",
       "    <tr>\n",
       "      <th>0</th>\n",
       "      <td>1000_125</td>\n",
       "      <td>1000</td>\n",
       "      <td>2018-12-27</td>\n",
       "    </tr>\n",
       "    <tr>\n",
       "      <th>1</th>\n",
       "      <td>1000_160</td>\n",
       "      <td>1000</td>\n",
       "      <td>2018-12-31</td>\n",
       "    </tr>\n",
       "    <tr>\n",
       "      <th>2</th>\n",
       "      <td>1000_223</td>\n",
       "      <td>1000</td>\n",
       "      <td>2018-12-31</td>\n",
       "    </tr>\n",
       "    <tr>\n",
       "      <th>3</th>\n",
       "      <td>1000_251</td>\n",
       "      <td>1000</td>\n",
       "      <td>2018-12-27</td>\n",
       "    </tr>\n",
       "    <tr>\n",
       "      <th>4</th>\n",
       "      <td>1000_255</td>\n",
       "      <td>1000</td>\n",
       "      <td>2018-12-26</td>\n",
       "    </tr>\n",
       "  </tbody>\n",
       "</table>\n",
       "</div>"
      ],
      "text/plain": [
       "         id  user_id message_date\n",
       "0  1000_125     1000   2018-12-27\n",
       "1  1000_160     1000   2018-12-31\n",
       "2  1000_223     1000   2018-12-31\n",
       "3  1000_251     1000   2018-12-27\n",
       "4  1000_255     1000   2018-12-26"
      ]
     },
     "execution_count": 49,
     "metadata": {},
     "output_type": "execute_result"
    }
   ],
   "source": [
    "df_messages.head()"
   ]
  },
  {
   "cell_type": "code",
   "execution_count": 50,
   "metadata": {},
   "outputs": [],
   "source": [
    "df_messages['month']=df_messages['message_date'].dt.month "
   ]
  },
  {
   "cell_type": "code",
   "execution_count": 51,
   "metadata": {},
   "outputs": [],
   "source": [
    "messages_monthly=df_messages.pivot_table(index=['user_id','month'],values='id',aggfunc='count')\n",
    "messages_monthly=messages_monthly.reset_index()\n",
    "messages_monthly.columns=['user_id','month','total_message']"
   ]
  },
  {
   "cell_type": "code",
   "execution_count": 52,
   "metadata": {},
   "outputs": [
    {
     "data": {
      "text/html": [
       "<div>\n",
       "<style scoped>\n",
       "    .dataframe tbody tr th:only-of-type {\n",
       "        vertical-align: middle;\n",
       "    }\n",
       "\n",
       "    .dataframe tbody tr th {\n",
       "        vertical-align: top;\n",
       "    }\n",
       "\n",
       "    .dataframe thead th {\n",
       "        text-align: right;\n",
       "    }\n",
       "</style>\n",
       "<table border=\"1\" class=\"dataframe\">\n",
       "  <thead>\n",
       "    <tr style=\"text-align: right;\">\n",
       "      <th></th>\n",
       "      <th>user_id</th>\n",
       "      <th>month</th>\n",
       "      <th>total_message</th>\n",
       "    </tr>\n",
       "  </thead>\n",
       "  <tbody>\n",
       "    <tr>\n",
       "      <th>0</th>\n",
       "      <td>1000</td>\n",
       "      <td>12</td>\n",
       "      <td>11</td>\n",
       "    </tr>\n",
       "    <tr>\n",
       "      <th>1</th>\n",
       "      <td>1001</td>\n",
       "      <td>8</td>\n",
       "      <td>30</td>\n",
       "    </tr>\n",
       "    <tr>\n",
       "      <th>2</th>\n",
       "      <td>1001</td>\n",
       "      <td>9</td>\n",
       "      <td>44</td>\n",
       "    </tr>\n",
       "    <tr>\n",
       "      <th>3</th>\n",
       "      <td>1001</td>\n",
       "      <td>10</td>\n",
       "      <td>53</td>\n",
       "    </tr>\n",
       "    <tr>\n",
       "      <th>4</th>\n",
       "      <td>1001</td>\n",
       "      <td>11</td>\n",
       "      <td>36</td>\n",
       "    </tr>\n",
       "  </tbody>\n",
       "</table>\n",
       "</div>"
      ],
      "text/plain": [
       "   user_id  month  total_message\n",
       "0     1000     12             11\n",
       "1     1001      8             30\n",
       "2     1001      9             44\n",
       "3     1001     10             53\n",
       "4     1001     11             36"
      ]
     },
     "execution_count": 52,
     "metadata": {},
     "output_type": "execute_result"
    }
   ],
   "source": [
    "messages_monthly.head()"
   ]
  },
  {
   "cell_type": "markdown",
   "metadata": {},
   "source": [
    "__INTERNET per Month (VOLUME DATA PER BULAN)__ "
   ]
  },
  {
   "cell_type": "markdown",
   "metadata": {},
   "source": [
    "hal yang sama pada df_internet perlu dikelompokkan dan dibuat colum total dari gb_used, nama barunya total_gb_monthly. Tentunya total_gb_monthly ini bergantung pada total_mb_monthly."
   ]
  },
  {
   "cell_type": "code",
   "execution_count": 53,
   "metadata": {},
   "outputs": [
    {
     "data": {
      "text/html": [
       "<div>\n",
       "<style scoped>\n",
       "    .dataframe tbody tr th:only-of-type {\n",
       "        vertical-align: middle;\n",
       "    }\n",
       "\n",
       "    .dataframe tbody tr th {\n",
       "        vertical-align: top;\n",
       "    }\n",
       "\n",
       "    .dataframe thead th {\n",
       "        text-align: right;\n",
       "    }\n",
       "</style>\n",
       "<table border=\"1\" class=\"dataframe\">\n",
       "  <thead>\n",
       "    <tr style=\"text-align: right;\">\n",
       "      <th></th>\n",
       "      <th>id</th>\n",
       "      <th>user_id</th>\n",
       "      <th>session_date</th>\n",
       "      <th>mb_used</th>\n",
       "      <th>gb_used</th>\n",
       "    </tr>\n",
       "  </thead>\n",
       "  <tbody>\n",
       "    <tr>\n",
       "      <th>104820</th>\n",
       "      <td>1499_215</td>\n",
       "      <td>1499</td>\n",
       "      <td>2018-10-20</td>\n",
       "      <td>218.06</td>\n",
       "      <td>1</td>\n",
       "    </tr>\n",
       "    <tr>\n",
       "      <th>104821</th>\n",
       "      <td>1499_216</td>\n",
       "      <td>1499</td>\n",
       "      <td>2018-12-30</td>\n",
       "      <td>304.72</td>\n",
       "      <td>1</td>\n",
       "    </tr>\n",
       "    <tr>\n",
       "      <th>104822</th>\n",
       "      <td>1499_217</td>\n",
       "      <td>1499</td>\n",
       "      <td>2018-09-22</td>\n",
       "      <td>292.75</td>\n",
       "      <td>1</td>\n",
       "    </tr>\n",
       "    <tr>\n",
       "      <th>104823</th>\n",
       "      <td>1499_218</td>\n",
       "      <td>1499</td>\n",
       "      <td>2018-12-07</td>\n",
       "      <td>0.00</td>\n",
       "      <td>0</td>\n",
       "    </tr>\n",
       "    <tr>\n",
       "      <th>104824</th>\n",
       "      <td>1499_219</td>\n",
       "      <td>1499</td>\n",
       "      <td>2018-12-24</td>\n",
       "      <td>758.31</td>\n",
       "      <td>1</td>\n",
       "    </tr>\n",
       "  </tbody>\n",
       "</table>\n",
       "</div>"
      ],
      "text/plain": [
       "              id  user_id session_date  mb_used  gb_used\n",
       "104820  1499_215     1499   2018-10-20   218.06        1\n",
       "104821  1499_216     1499   2018-12-30   304.72        1\n",
       "104822  1499_217     1499   2018-09-22   292.75        1\n",
       "104823  1499_218     1499   2018-12-07     0.00        0\n",
       "104824  1499_219     1499   2018-12-24   758.31        1"
      ]
     },
     "execution_count": 53,
     "metadata": {},
     "output_type": "execute_result"
    }
   ],
   "source": [
    "df_internet.tail()"
   ]
  },
  {
   "cell_type": "code",
   "execution_count": 54,
   "metadata": {},
   "outputs": [],
   "source": [
    "df_internet['month']=df_internet['session_date'].dt.month"
   ]
  },
  {
   "cell_type": "code",
   "execution_count": 55,
   "metadata": {},
   "outputs": [],
   "source": [
    "internet_monthly=df_internet.pivot_table(index=['user_id','month'],values='mb_used',aggfunc='sum')\n",
    "internet_monthly=internet_monthly.reset_index()\n",
    "internet_monthly.columns=['user_id','month','total_mb_monthly']\n",
    "internet_monthly['total_gb_monthly']=np.ceil((internet_monthly['total_mb_monthly'].values)/1024).astype(int)"
   ]
  },
  {
   "cell_type": "code",
   "execution_count": 56,
   "metadata": {},
   "outputs": [
    {
     "data": {
      "text/html": [
       "<div>\n",
       "<style scoped>\n",
       "    .dataframe tbody tr th:only-of-type {\n",
       "        vertical-align: middle;\n",
       "    }\n",
       "\n",
       "    .dataframe tbody tr th {\n",
       "        vertical-align: top;\n",
       "    }\n",
       "\n",
       "    .dataframe thead th {\n",
       "        text-align: right;\n",
       "    }\n",
       "</style>\n",
       "<table border=\"1\" class=\"dataframe\">\n",
       "  <thead>\n",
       "    <tr style=\"text-align: right;\">\n",
       "      <th></th>\n",
       "      <th>user_id</th>\n",
       "      <th>month</th>\n",
       "      <th>total_mb_monthly</th>\n",
       "      <th>total_gb_monthly</th>\n",
       "    </tr>\n",
       "  </thead>\n",
       "  <tbody>\n",
       "    <tr>\n",
       "      <th>0</th>\n",
       "      <td>1000</td>\n",
       "      <td>12</td>\n",
       "      <td>1901.47</td>\n",
       "      <td>2</td>\n",
       "    </tr>\n",
       "    <tr>\n",
       "      <th>1</th>\n",
       "      <td>1001</td>\n",
       "      <td>8</td>\n",
       "      <td>6919.15</td>\n",
       "      <td>7</td>\n",
       "    </tr>\n",
       "    <tr>\n",
       "      <th>2</th>\n",
       "      <td>1001</td>\n",
       "      <td>9</td>\n",
       "      <td>13314.82</td>\n",
       "      <td>14</td>\n",
       "    </tr>\n",
       "    <tr>\n",
       "      <th>3</th>\n",
       "      <td>1001</td>\n",
       "      <td>10</td>\n",
       "      <td>22330.49</td>\n",
       "      <td>22</td>\n",
       "    </tr>\n",
       "    <tr>\n",
       "      <th>4</th>\n",
       "      <td>1001</td>\n",
       "      <td>11</td>\n",
       "      <td>18504.30</td>\n",
       "      <td>19</td>\n",
       "    </tr>\n",
       "  </tbody>\n",
       "</table>\n",
       "</div>"
      ],
      "text/plain": [
       "   user_id  month  total_mb_monthly  total_gb_monthly\n",
       "0     1000     12           1901.47                 2\n",
       "1     1001      8           6919.15                 7\n",
       "2     1001      9          13314.82                14\n",
       "3     1001     10          22330.49                22\n",
       "4     1001     11          18504.30                19"
      ]
     },
     "execution_count": 56,
     "metadata": {},
     "output_type": "execute_result"
    }
   ],
   "source": [
    "internet_monthly.head()"
   ]
  },
  {
   "cell_type": "code",
   "execution_count": 57,
   "metadata": {},
   "outputs": [],
   "source": [
    "#Tapi dengan nilai pembagi 1024 maka ada total_gb_monthly yang tidak dibulatkan ke atas #seperti user_id 1001 pada bulan Oktober dimana hasilnya tetap 22GB. Untuk hal ini, sy #bulatkan pembagi menjadi 1000. "
   ]
  },
  {
   "cell_type": "code",
   "execution_count": 58,
   "metadata": {},
   "outputs": [],
   "source": [
    "#internet_monthly['total_gb_monthly']=(np.ceil\n",
    "                                      #((internet_monthly['total_mb_monthly']\n",
    "                                        #.values)/1000).astype(int)\n",
    "                                     #)"
   ]
  },
  {
   "cell_type": "markdown",
   "metadata": {},
   "source": [
    "<div class=\"alert alert-block alert-info\">\n",
    "<b> 1GB = 1024MB DONE! <a class=\"tocSkip\"></a>\n",
    "</div>"
   ]
  },
  {
   "cell_type": "code",
   "execution_count": 59,
   "metadata": {},
   "outputs": [
    {
     "data": {
      "text/html": [
       "<div>\n",
       "<style scoped>\n",
       "    .dataframe tbody tr th:only-of-type {\n",
       "        vertical-align: middle;\n",
       "    }\n",
       "\n",
       "    .dataframe tbody tr th {\n",
       "        vertical-align: top;\n",
       "    }\n",
       "\n",
       "    .dataframe thead th {\n",
       "        text-align: right;\n",
       "    }\n",
       "</style>\n",
       "<table border=\"1\" class=\"dataframe\">\n",
       "  <thead>\n",
       "    <tr style=\"text-align: right;\">\n",
       "      <th></th>\n",
       "      <th>user_id</th>\n",
       "      <th>month</th>\n",
       "      <th>total_mb_monthly</th>\n",
       "      <th>total_gb_monthly</th>\n",
       "    </tr>\n",
       "  </thead>\n",
       "  <tbody>\n",
       "    <tr>\n",
       "      <th>0</th>\n",
       "      <td>1000</td>\n",
       "      <td>12</td>\n",
       "      <td>1901.47</td>\n",
       "      <td>2</td>\n",
       "    </tr>\n",
       "    <tr>\n",
       "      <th>1</th>\n",
       "      <td>1001</td>\n",
       "      <td>8</td>\n",
       "      <td>6919.15</td>\n",
       "      <td>7</td>\n",
       "    </tr>\n",
       "    <tr>\n",
       "      <th>2</th>\n",
       "      <td>1001</td>\n",
       "      <td>9</td>\n",
       "      <td>13314.82</td>\n",
       "      <td>14</td>\n",
       "    </tr>\n",
       "    <tr>\n",
       "      <th>3</th>\n",
       "      <td>1001</td>\n",
       "      <td>10</td>\n",
       "      <td>22330.49</td>\n",
       "      <td>22</td>\n",
       "    </tr>\n",
       "    <tr>\n",
       "      <th>4</th>\n",
       "      <td>1001</td>\n",
       "      <td>11</td>\n",
       "      <td>18504.30</td>\n",
       "      <td>19</td>\n",
       "    </tr>\n",
       "    <tr>\n",
       "      <th>...</th>\n",
       "      <td>...</td>\n",
       "      <td>...</td>\n",
       "      <td>...</td>\n",
       "      <td>...</td>\n",
       "    </tr>\n",
       "    <tr>\n",
       "      <th>2272</th>\n",
       "      <td>1498</td>\n",
       "      <td>12</td>\n",
       "      <td>23137.69</td>\n",
       "      <td>23</td>\n",
       "    </tr>\n",
       "    <tr>\n",
       "      <th>2273</th>\n",
       "      <td>1499</td>\n",
       "      <td>9</td>\n",
       "      <td>12984.76</td>\n",
       "      <td>13</td>\n",
       "    </tr>\n",
       "    <tr>\n",
       "      <th>2274</th>\n",
       "      <td>1499</td>\n",
       "      <td>10</td>\n",
       "      <td>19492.43</td>\n",
       "      <td>20</td>\n",
       "    </tr>\n",
       "    <tr>\n",
       "      <th>2275</th>\n",
       "      <td>1499</td>\n",
       "      <td>11</td>\n",
       "      <td>16813.83</td>\n",
       "      <td>17</td>\n",
       "    </tr>\n",
       "    <tr>\n",
       "      <th>2276</th>\n",
       "      <td>1499</td>\n",
       "      <td>12</td>\n",
       "      <td>22059.21</td>\n",
       "      <td>22</td>\n",
       "    </tr>\n",
       "  </tbody>\n",
       "</table>\n",
       "<p>2277 rows × 4 columns</p>\n",
       "</div>"
      ],
      "text/plain": [
       "      user_id  month  total_mb_monthly  total_gb_monthly\n",
       "0        1000     12           1901.47                 2\n",
       "1        1001      8           6919.15                 7\n",
       "2        1001      9          13314.82                14\n",
       "3        1001     10          22330.49                22\n",
       "4        1001     11          18504.30                19\n",
       "...       ...    ...               ...               ...\n",
       "2272     1498     12          23137.69                23\n",
       "2273     1499      9          12984.76                13\n",
       "2274     1499     10          19492.43                20\n",
       "2275     1499     11          16813.83                17\n",
       "2276     1499     12          22059.21                22\n",
       "\n",
       "[2277 rows x 4 columns]"
      ]
     },
     "execution_count": 59,
     "metadata": {},
     "output_type": "execute_result"
    }
   ],
   "source": [
    "internet_monthly"
   ]
  },
  {
   "cell_type": "markdown",
   "metadata": {},
   "source": [
    "__Pendapatan bulanan dari setiap pengguna (kurangi batas paket gratis dari jumlah total panggilan, SMS, dan data; kalikan hasilnya dengan nilai paket telepon; tambahkan biaya bulanan tergantung pada paket teleponnya)__"
   ]
  },
  {
   "cell_type": "markdown",
   "metadata": {},
   "source": [
    "untuk hal ini, supaya lebih mudah dibaca dalam 1 data besar maka digabungkan saja semua data per bulan (calls_monthly, messages_monthly dan internet_monthly). Juga perlu dimasukkan kolom plan dan city pada tabel df_users untuk dapat melihat program paket mana yang diambil oleh users"
   ]
  },
  {
   "cell_type": "code",
   "execution_count": 60,
   "metadata": {},
   "outputs": [],
   "source": [
    "user_plan=df_users[['user_id','plan','city']]\n",
    "user_plan=user_plan.merge(df_plans,left_on='plan',right_on='plan_name')"
   ]
  },
  {
   "cell_type": "code",
   "execution_count": 61,
   "metadata": {},
   "outputs": [],
   "source": [
    "df_monthly=(calls_monthly\n",
    "            .merge(messages_monthly,how='outer',on=['user_id','month'])\n",
    "            .merge(internet_monthly,how='outer',on=['user_id','month'])\n",
    "            .merge(user_plan,on=('user_id'))\n",
    "           )"
   ]
  },
  {
   "cell_type": "code",
   "execution_count": 62,
   "metadata": {},
   "outputs": [
    {
     "data": {
      "text/html": [
       "<div>\n",
       "<style scoped>\n",
       "    .dataframe tbody tr th:only-of-type {\n",
       "        vertical-align: middle;\n",
       "    }\n",
       "\n",
       "    .dataframe tbody tr th {\n",
       "        vertical-align: top;\n",
       "    }\n",
       "\n",
       "    .dataframe thead th {\n",
       "        text-align: right;\n",
       "    }\n",
       "</style>\n",
       "<table border=\"1\" class=\"dataframe\">\n",
       "  <thead>\n",
       "    <tr style=\"text-align: right;\">\n",
       "      <th></th>\n",
       "      <th>user_id</th>\n",
       "      <th>month</th>\n",
       "      <th>calls_made</th>\n",
       "      <th>total_duration</th>\n",
       "      <th>total_message</th>\n",
       "      <th>total_mb_monthly</th>\n",
       "      <th>total_gb_monthly</th>\n",
       "      <th>plan</th>\n",
       "      <th>city</th>\n",
       "      <th>messages_included</th>\n",
       "      <th>mb_per_month_included</th>\n",
       "      <th>minutes_included</th>\n",
       "      <th>usd_monthly_pay</th>\n",
       "      <th>usd_per_gb</th>\n",
       "      <th>usd_per_message</th>\n",
       "      <th>usd_per_minute</th>\n",
       "      <th>plan_name</th>\n",
       "    </tr>\n",
       "  </thead>\n",
       "  <tbody>\n",
       "    <tr>\n",
       "      <th>0</th>\n",
       "      <td>1000</td>\n",
       "      <td>12</td>\n",
       "      <td>16.0</td>\n",
       "      <td>124.0</td>\n",
       "      <td>11.0</td>\n",
       "      <td>1901.47</td>\n",
       "      <td>2.0</td>\n",
       "      <td>ultimate</td>\n",
       "      <td>Atlanta-Sandy Springs-Roswell, GA MSA</td>\n",
       "      <td>1000</td>\n",
       "      <td>30720</td>\n",
       "      <td>3000</td>\n",
       "      <td>70</td>\n",
       "      <td>7</td>\n",
       "      <td>0.01</td>\n",
       "      <td>0.01</td>\n",
       "      <td>ultimate</td>\n",
       "    </tr>\n",
       "    <tr>\n",
       "      <th>1</th>\n",
       "      <td>1001</td>\n",
       "      <td>8</td>\n",
       "      <td>27.0</td>\n",
       "      <td>182.0</td>\n",
       "      <td>30.0</td>\n",
       "      <td>6919.15</td>\n",
       "      <td>7.0</td>\n",
       "      <td>surf</td>\n",
       "      <td>Seattle-Tacoma-Bellevue, WA MSA</td>\n",
       "      <td>50</td>\n",
       "      <td>15360</td>\n",
       "      <td>500</td>\n",
       "      <td>20</td>\n",
       "      <td>10</td>\n",
       "      <td>0.03</td>\n",
       "      <td>0.03</td>\n",
       "      <td>surf</td>\n",
       "    </tr>\n",
       "    <tr>\n",
       "      <th>2</th>\n",
       "      <td>1001</td>\n",
       "      <td>9</td>\n",
       "      <td>49.0</td>\n",
       "      <td>315.0</td>\n",
       "      <td>44.0</td>\n",
       "      <td>13314.82</td>\n",
       "      <td>14.0</td>\n",
       "      <td>surf</td>\n",
       "      <td>Seattle-Tacoma-Bellevue, WA MSA</td>\n",
       "      <td>50</td>\n",
       "      <td>15360</td>\n",
       "      <td>500</td>\n",
       "      <td>20</td>\n",
       "      <td>10</td>\n",
       "      <td>0.03</td>\n",
       "      <td>0.03</td>\n",
       "      <td>surf</td>\n",
       "    </tr>\n",
       "    <tr>\n",
       "      <th>3</th>\n",
       "      <td>1001</td>\n",
       "      <td>10</td>\n",
       "      <td>65.0</td>\n",
       "      <td>393.0</td>\n",
       "      <td>53.0</td>\n",
       "      <td>22330.49</td>\n",
       "      <td>22.0</td>\n",
       "      <td>surf</td>\n",
       "      <td>Seattle-Tacoma-Bellevue, WA MSA</td>\n",
       "      <td>50</td>\n",
       "      <td>15360</td>\n",
       "      <td>500</td>\n",
       "      <td>20</td>\n",
       "      <td>10</td>\n",
       "      <td>0.03</td>\n",
       "      <td>0.03</td>\n",
       "      <td>surf</td>\n",
       "    </tr>\n",
       "    <tr>\n",
       "      <th>4</th>\n",
       "      <td>1001</td>\n",
       "      <td>11</td>\n",
       "      <td>64.0</td>\n",
       "      <td>426.0</td>\n",
       "      <td>36.0</td>\n",
       "      <td>18504.30</td>\n",
       "      <td>19.0</td>\n",
       "      <td>surf</td>\n",
       "      <td>Seattle-Tacoma-Bellevue, WA MSA</td>\n",
       "      <td>50</td>\n",
       "      <td>15360</td>\n",
       "      <td>500</td>\n",
       "      <td>20</td>\n",
       "      <td>10</td>\n",
       "      <td>0.03</td>\n",
       "      <td>0.03</td>\n",
       "      <td>surf</td>\n",
       "    </tr>\n",
       "  </tbody>\n",
       "</table>\n",
       "</div>"
      ],
      "text/plain": [
       "   user_id  month  calls_made  total_duration  total_message  \\\n",
       "0     1000     12        16.0           124.0           11.0   \n",
       "1     1001      8        27.0           182.0           30.0   \n",
       "2     1001      9        49.0           315.0           44.0   \n",
       "3     1001     10        65.0           393.0           53.0   \n",
       "4     1001     11        64.0           426.0           36.0   \n",
       "\n",
       "   total_mb_monthly  total_gb_monthly      plan  \\\n",
       "0           1901.47               2.0  ultimate   \n",
       "1           6919.15               7.0      surf   \n",
       "2          13314.82              14.0      surf   \n",
       "3          22330.49              22.0      surf   \n",
       "4          18504.30              19.0      surf   \n",
       "\n",
       "                                    city  messages_included  \\\n",
       "0  Atlanta-Sandy Springs-Roswell, GA MSA               1000   \n",
       "1        Seattle-Tacoma-Bellevue, WA MSA                 50   \n",
       "2        Seattle-Tacoma-Bellevue, WA MSA                 50   \n",
       "3        Seattle-Tacoma-Bellevue, WA MSA                 50   \n",
       "4        Seattle-Tacoma-Bellevue, WA MSA                 50   \n",
       "\n",
       "   mb_per_month_included  minutes_included  usd_monthly_pay  usd_per_gb  \\\n",
       "0                  30720              3000               70           7   \n",
       "1                  15360               500               20          10   \n",
       "2                  15360               500               20          10   \n",
       "3                  15360               500               20          10   \n",
       "4                  15360               500               20          10   \n",
       "\n",
       "   usd_per_message  usd_per_minute plan_name  \n",
       "0             0.01            0.01  ultimate  \n",
       "1             0.03            0.03      surf  \n",
       "2             0.03            0.03      surf  \n",
       "3             0.03            0.03      surf  \n",
       "4             0.03            0.03      surf  "
      ]
     },
     "execution_count": 62,
     "metadata": {},
     "output_type": "execute_result"
    }
   ],
   "source": [
    "df_monthly.head()"
   ]
  },
  {
   "cell_type": "markdown",
   "metadata": {},
   "source": [
    "Dataframe baru dengan columns dan values yang diperlukan untuk menghitung pendapatan bulanan.\n",
    "<br>Cek dulu missing values (jika ada)."
   ]
  },
  {
   "cell_type": "code",
   "execution_count": 63,
   "metadata": {},
   "outputs": [
    {
     "data": {
      "text/plain": [
       "user_id                    0\n",
       "month                      0\n",
       "calls_made                35\n",
       "total_duration            35\n",
       "total_message            487\n",
       "total_mb_monthly          16\n",
       "total_gb_monthly          16\n",
       "plan                       0\n",
       "city                       0\n",
       "messages_included          0\n",
       "mb_per_month_included      0\n",
       "minutes_included           0\n",
       "usd_monthly_pay            0\n",
       "usd_per_gb                 0\n",
       "usd_per_message            0\n",
       "usd_per_minute             0\n",
       "plan_name                  0\n",
       "dtype: int64"
      ]
     },
     "execution_count": 63,
     "metadata": {},
     "output_type": "execute_result"
    }
   ],
   "source": [
    "df_monthly.isna().sum()"
   ]
  },
  {
   "cell_type": "markdown",
   "metadata": {},
   "source": [
    "ada beberapa missing values. Hal ini diduga karena:\n",
    "1. ada beberapa panggilan tidak terjawab \n",
    "2. ada users yang hanya pakai internet tapi tidak calls dan tidak message(sms) atau sebaliknya\n",
    "<br>Untuk hal ini maka dihapus saja missing values dan diganti dengan memberi nilai 0, karena tidak ada data pendukung untuk mengisi missing values ini dengan nilai tertentu. "
   ]
  },
  {
   "cell_type": "code",
   "execution_count": 64,
   "metadata": {},
   "outputs": [],
   "source": [
    "for col in [\n",
    "            'calls_made','total_duration',\n",
    "            'total_message','total_mb_monthly','total_gb_monthly'\n",
    "            ]:\n",
    "    df_monthly[col]=df_monthly[col].fillna(0)"
   ]
  },
  {
   "cell_type": "code",
   "execution_count": 65,
   "metadata": {},
   "outputs": [
    {
     "data": {
      "text/plain": [
       "user_id                  0\n",
       "month                    0\n",
       "calls_made               0\n",
       "total_duration           0\n",
       "total_message            0\n",
       "total_mb_monthly         0\n",
       "total_gb_monthly         0\n",
       "plan                     0\n",
       "city                     0\n",
       "messages_included        0\n",
       "mb_per_month_included    0\n",
       "minutes_included         0\n",
       "usd_monthly_pay          0\n",
       "usd_per_gb               0\n",
       "usd_per_message          0\n",
       "usd_per_minute           0\n",
       "plan_name                0\n",
       "dtype: int64"
      ]
     },
     "execution_count": 65,
     "metadata": {},
     "output_type": "execute_result"
    }
   ],
   "source": [
    "df_monthly.isna().sum()"
   ]
  },
  {
   "cell_type": "markdown",
   "metadata": {},
   "source": [
    "DONE!"
   ]
  },
  {
   "cell_type": "markdown",
   "metadata": {},
   "source": [
    "Sekarang bisa dilakukan perhitungan pendapatan bulanan!"
   ]
  },
  {
   "cell_type": "markdown",
   "metadata": {},
   "source": [
    "instruksi: \n",
    "<br>kurangi batas paket gratis dari jumlah total panggilan, SMS, dan data; kalikan hasilnya dengan nilai paket telepon; tambahkan biaya bulanan tergantung pada paket teleponnya)"
   ]
  },
  {
   "cell_type": "markdown",
   "metadata": {},
   "source": [
    "karena variable pengali (nilai paket telepon) hanya ada messages_included, mb_per_month_included dan minutes_included maka yang dipakai bukan values dari column calls_made melainkan dari total_duration."
   ]
  },
  {
   "cell_type": "markdown",
   "metadata": {},
   "source": [
    "untuk column 'mb_per_month_included' perlu dirubah menjadi GB terlebih dahulu"
   ]
  },
  {
   "cell_type": "code",
   "execution_count": 66,
   "metadata": {},
   "outputs": [],
   "source": [
    "df_monthly['gb_per_month_included']=np.ceil((df_monthly['mb_per_month_included'].values)/1024)\n",
    "                                            "
   ]
  },
  {
   "cell_type": "markdown",
   "metadata": {},
   "source": [
    "<div class=\"alert alert-block alert-info\">\n",
    "<b>OK DONE! 1GB=1024MB <a class=\"tocSkip\"></a>\n",
    "</div>"
   ]
  },
  {
   "cell_type": "code",
   "execution_count": 67,
   "metadata": {},
   "outputs": [
    {
     "data": {
      "text/html": [
       "<div>\n",
       "<style scoped>\n",
       "    .dataframe tbody tr th:only-of-type {\n",
       "        vertical-align: middle;\n",
       "    }\n",
       "\n",
       "    .dataframe tbody tr th {\n",
       "        vertical-align: top;\n",
       "    }\n",
       "\n",
       "    .dataframe thead th {\n",
       "        text-align: right;\n",
       "    }\n",
       "</style>\n",
       "<table border=\"1\" class=\"dataframe\">\n",
       "  <thead>\n",
       "    <tr style=\"text-align: right;\">\n",
       "      <th></th>\n",
       "      <th>user_id</th>\n",
       "      <th>month</th>\n",
       "      <th>calls_made</th>\n",
       "      <th>total_duration</th>\n",
       "      <th>total_message</th>\n",
       "      <th>total_mb_monthly</th>\n",
       "      <th>total_gb_monthly</th>\n",
       "      <th>plan</th>\n",
       "      <th>city</th>\n",
       "      <th>messages_included</th>\n",
       "      <th>mb_per_month_included</th>\n",
       "      <th>minutes_included</th>\n",
       "      <th>usd_monthly_pay</th>\n",
       "      <th>usd_per_gb</th>\n",
       "      <th>usd_per_message</th>\n",
       "      <th>usd_per_minute</th>\n",
       "      <th>plan_name</th>\n",
       "      <th>gb_per_month_included</th>\n",
       "    </tr>\n",
       "  </thead>\n",
       "  <tbody>\n",
       "    <tr>\n",
       "      <th>0</th>\n",
       "      <td>1000</td>\n",
       "      <td>12</td>\n",
       "      <td>16.0</td>\n",
       "      <td>124.0</td>\n",
       "      <td>11.0</td>\n",
       "      <td>1901.47</td>\n",
       "      <td>2.0</td>\n",
       "      <td>ultimate</td>\n",
       "      <td>Atlanta-Sandy Springs-Roswell, GA MSA</td>\n",
       "      <td>1000</td>\n",
       "      <td>30720</td>\n",
       "      <td>3000</td>\n",
       "      <td>70</td>\n",
       "      <td>7</td>\n",
       "      <td>0.01</td>\n",
       "      <td>0.01</td>\n",
       "      <td>ultimate</td>\n",
       "      <td>30.0</td>\n",
       "    </tr>\n",
       "    <tr>\n",
       "      <th>1</th>\n",
       "      <td>1001</td>\n",
       "      <td>8</td>\n",
       "      <td>27.0</td>\n",
       "      <td>182.0</td>\n",
       "      <td>30.0</td>\n",
       "      <td>6919.15</td>\n",
       "      <td>7.0</td>\n",
       "      <td>surf</td>\n",
       "      <td>Seattle-Tacoma-Bellevue, WA MSA</td>\n",
       "      <td>50</td>\n",
       "      <td>15360</td>\n",
       "      <td>500</td>\n",
       "      <td>20</td>\n",
       "      <td>10</td>\n",
       "      <td>0.03</td>\n",
       "      <td>0.03</td>\n",
       "      <td>surf</td>\n",
       "      <td>15.0</td>\n",
       "    </tr>\n",
       "    <tr>\n",
       "      <th>2</th>\n",
       "      <td>1001</td>\n",
       "      <td>9</td>\n",
       "      <td>49.0</td>\n",
       "      <td>315.0</td>\n",
       "      <td>44.0</td>\n",
       "      <td>13314.82</td>\n",
       "      <td>14.0</td>\n",
       "      <td>surf</td>\n",
       "      <td>Seattle-Tacoma-Bellevue, WA MSA</td>\n",
       "      <td>50</td>\n",
       "      <td>15360</td>\n",
       "      <td>500</td>\n",
       "      <td>20</td>\n",
       "      <td>10</td>\n",
       "      <td>0.03</td>\n",
       "      <td>0.03</td>\n",
       "      <td>surf</td>\n",
       "      <td>15.0</td>\n",
       "    </tr>\n",
       "    <tr>\n",
       "      <th>3</th>\n",
       "      <td>1001</td>\n",
       "      <td>10</td>\n",
       "      <td>65.0</td>\n",
       "      <td>393.0</td>\n",
       "      <td>53.0</td>\n",
       "      <td>22330.49</td>\n",
       "      <td>22.0</td>\n",
       "      <td>surf</td>\n",
       "      <td>Seattle-Tacoma-Bellevue, WA MSA</td>\n",
       "      <td>50</td>\n",
       "      <td>15360</td>\n",
       "      <td>500</td>\n",
       "      <td>20</td>\n",
       "      <td>10</td>\n",
       "      <td>0.03</td>\n",
       "      <td>0.03</td>\n",
       "      <td>surf</td>\n",
       "      <td>15.0</td>\n",
       "    </tr>\n",
       "    <tr>\n",
       "      <th>4</th>\n",
       "      <td>1001</td>\n",
       "      <td>11</td>\n",
       "      <td>64.0</td>\n",
       "      <td>426.0</td>\n",
       "      <td>36.0</td>\n",
       "      <td>18504.30</td>\n",
       "      <td>19.0</td>\n",
       "      <td>surf</td>\n",
       "      <td>Seattle-Tacoma-Bellevue, WA MSA</td>\n",
       "      <td>50</td>\n",
       "      <td>15360</td>\n",
       "      <td>500</td>\n",
       "      <td>20</td>\n",
       "      <td>10</td>\n",
       "      <td>0.03</td>\n",
       "      <td>0.03</td>\n",
       "      <td>surf</td>\n",
       "      <td>15.0</td>\n",
       "    </tr>\n",
       "  </tbody>\n",
       "</table>\n",
       "</div>"
      ],
      "text/plain": [
       "   user_id  month  calls_made  total_duration  total_message  \\\n",
       "0     1000     12        16.0           124.0           11.0   \n",
       "1     1001      8        27.0           182.0           30.0   \n",
       "2     1001      9        49.0           315.0           44.0   \n",
       "3     1001     10        65.0           393.0           53.0   \n",
       "4     1001     11        64.0           426.0           36.0   \n",
       "\n",
       "   total_mb_monthly  total_gb_monthly      plan  \\\n",
       "0           1901.47               2.0  ultimate   \n",
       "1           6919.15               7.0      surf   \n",
       "2          13314.82              14.0      surf   \n",
       "3          22330.49              22.0      surf   \n",
       "4          18504.30              19.0      surf   \n",
       "\n",
       "                                    city  messages_included  \\\n",
       "0  Atlanta-Sandy Springs-Roswell, GA MSA               1000   \n",
       "1        Seattle-Tacoma-Bellevue, WA MSA                 50   \n",
       "2        Seattle-Tacoma-Bellevue, WA MSA                 50   \n",
       "3        Seattle-Tacoma-Bellevue, WA MSA                 50   \n",
       "4        Seattle-Tacoma-Bellevue, WA MSA                 50   \n",
       "\n",
       "   mb_per_month_included  minutes_included  usd_monthly_pay  usd_per_gb  \\\n",
       "0                  30720              3000               70           7   \n",
       "1                  15360               500               20          10   \n",
       "2                  15360               500               20          10   \n",
       "3                  15360               500               20          10   \n",
       "4                  15360               500               20          10   \n",
       "\n",
       "   usd_per_message  usd_per_minute plan_name  gb_per_month_included  \n",
       "0             0.01            0.01  ultimate                   30.0  \n",
       "1             0.03            0.03      surf                   15.0  \n",
       "2             0.03            0.03      surf                   15.0  \n",
       "3             0.03            0.03      surf                   15.0  \n",
       "4             0.03            0.03      surf                   15.0  "
      ]
     },
     "execution_count": 67,
     "metadata": {},
     "output_type": "execute_result"
    }
   ],
   "source": [
    "df_monthly.head()"
   ]
  },
  {
   "cell_type": "code",
   "execution_count": 68,
   "metadata": {},
   "outputs": [],
   "source": [
    "df_monthly['calls_revenue']=df_monthly.apply(lambda x: max(x['total_duration']-x['minutes_included'],0)\n",
    "                                            *x['usd_per_minute'],axis=1)\n",
    "df_monthly['messages_revenue']=df_monthly.apply(lambda x: max(x['total_message']-x['messages_included'],0)\n",
    "                                               *x['usd_per_message'],axis=1)\n",
    "df_monthly['volume_gb_revenue']=df_monthly.apply(lambda x: max(x['total_gb_monthly']-x['gb_per_month_included'],0)\n",
    "                                                 *x['usd_per_gb'],axis=1)\n",
    "df_monthly['total_revenue']=df_monthly['calls_revenue']+df_monthly['messages_revenue']+df_monthly['volume_gb_revenue']+df_monthly['usd_monthly_pay']\n"
   ]
  },
  {
   "cell_type": "markdown",
   "metadata": {},
   "source": [
    "<div class=\"alert alert-block alert-danger\">\n",
    "<b>Reviewer's comment v1</b> <a class=\"tocSkip\"></a>\n",
    "\n",
    "Seharusnya jika `total` kurang dari `included` maka `revenue = 0`, bukan negatif ya. Misalnya\n",
    "    \n",
    "    df_monthly['calls_revenue']=df_monthly.apply(lambda x: max(x['total_duration']-x['minutes_included'], 0)\n",
    "                                            *x['usd_per_minute'],axis=1)\n",
    "    \n",
    "Bisa diperbaiki juga untuk `messages` dan `volume_gb`.\n",
    "</div>"
   ]
  },
  {
   "cell_type": "markdown",
   "metadata": {},
   "source": [
    "<div class=\"alert alert-block alert-info\">\n",
    "<b>DONE! \n",
    "<br>Code sudah ditambahan 'max' dan '0' agar revenue tidak negatif. <a class=\"tocSkip\"></a>\n",
    "</div>"
   ]
  },
  {
   "cell_type": "code",
   "execution_count": 69,
   "metadata": {},
   "outputs": [
    {
     "data": {
      "text/html": [
       "<div>\n",
       "<style scoped>\n",
       "    .dataframe tbody tr th:only-of-type {\n",
       "        vertical-align: middle;\n",
       "    }\n",
       "\n",
       "    .dataframe tbody tr th {\n",
       "        vertical-align: top;\n",
       "    }\n",
       "\n",
       "    .dataframe thead th {\n",
       "        text-align: right;\n",
       "    }\n",
       "</style>\n",
       "<table border=\"1\" class=\"dataframe\">\n",
       "  <thead>\n",
       "    <tr style=\"text-align: right;\">\n",
       "      <th></th>\n",
       "      <th>user_id</th>\n",
       "      <th>month</th>\n",
       "      <th>calls_made</th>\n",
       "      <th>total_duration</th>\n",
       "      <th>total_message</th>\n",
       "      <th>total_mb_monthly</th>\n",
       "      <th>total_gb_monthly</th>\n",
       "      <th>plan</th>\n",
       "      <th>city</th>\n",
       "      <th>messages_included</th>\n",
       "      <th>...</th>\n",
       "      <th>usd_monthly_pay</th>\n",
       "      <th>usd_per_gb</th>\n",
       "      <th>usd_per_message</th>\n",
       "      <th>usd_per_minute</th>\n",
       "      <th>plan_name</th>\n",
       "      <th>gb_per_month_included</th>\n",
       "      <th>calls_revenue</th>\n",
       "      <th>messages_revenue</th>\n",
       "      <th>volume_gb_revenue</th>\n",
       "      <th>total_revenue</th>\n",
       "    </tr>\n",
       "  </thead>\n",
       "  <tbody>\n",
       "    <tr>\n",
       "      <th>0</th>\n",
       "      <td>1000</td>\n",
       "      <td>12</td>\n",
       "      <td>16.0</td>\n",
       "      <td>124.0</td>\n",
       "      <td>11.0</td>\n",
       "      <td>1901.47</td>\n",
       "      <td>2.0</td>\n",
       "      <td>ultimate</td>\n",
       "      <td>Atlanta-Sandy Springs-Roswell, GA MSA</td>\n",
       "      <td>1000</td>\n",
       "      <td>...</td>\n",
       "      <td>70</td>\n",
       "      <td>7</td>\n",
       "      <td>0.01</td>\n",
       "      <td>0.01</td>\n",
       "      <td>ultimate</td>\n",
       "      <td>30.0</td>\n",
       "      <td>0.0</td>\n",
       "      <td>0.00</td>\n",
       "      <td>0.0</td>\n",
       "      <td>70.00</td>\n",
       "    </tr>\n",
       "    <tr>\n",
       "      <th>1</th>\n",
       "      <td>1001</td>\n",
       "      <td>8</td>\n",
       "      <td>27.0</td>\n",
       "      <td>182.0</td>\n",
       "      <td>30.0</td>\n",
       "      <td>6919.15</td>\n",
       "      <td>7.0</td>\n",
       "      <td>surf</td>\n",
       "      <td>Seattle-Tacoma-Bellevue, WA MSA</td>\n",
       "      <td>50</td>\n",
       "      <td>...</td>\n",
       "      <td>20</td>\n",
       "      <td>10</td>\n",
       "      <td>0.03</td>\n",
       "      <td>0.03</td>\n",
       "      <td>surf</td>\n",
       "      <td>15.0</td>\n",
       "      <td>0.0</td>\n",
       "      <td>0.00</td>\n",
       "      <td>0.0</td>\n",
       "      <td>20.00</td>\n",
       "    </tr>\n",
       "    <tr>\n",
       "      <th>2</th>\n",
       "      <td>1001</td>\n",
       "      <td>9</td>\n",
       "      <td>49.0</td>\n",
       "      <td>315.0</td>\n",
       "      <td>44.0</td>\n",
       "      <td>13314.82</td>\n",
       "      <td>14.0</td>\n",
       "      <td>surf</td>\n",
       "      <td>Seattle-Tacoma-Bellevue, WA MSA</td>\n",
       "      <td>50</td>\n",
       "      <td>...</td>\n",
       "      <td>20</td>\n",
       "      <td>10</td>\n",
       "      <td>0.03</td>\n",
       "      <td>0.03</td>\n",
       "      <td>surf</td>\n",
       "      <td>15.0</td>\n",
       "      <td>0.0</td>\n",
       "      <td>0.00</td>\n",
       "      <td>0.0</td>\n",
       "      <td>20.00</td>\n",
       "    </tr>\n",
       "    <tr>\n",
       "      <th>3</th>\n",
       "      <td>1001</td>\n",
       "      <td>10</td>\n",
       "      <td>65.0</td>\n",
       "      <td>393.0</td>\n",
       "      <td>53.0</td>\n",
       "      <td>22330.49</td>\n",
       "      <td>22.0</td>\n",
       "      <td>surf</td>\n",
       "      <td>Seattle-Tacoma-Bellevue, WA MSA</td>\n",
       "      <td>50</td>\n",
       "      <td>...</td>\n",
       "      <td>20</td>\n",
       "      <td>10</td>\n",
       "      <td>0.03</td>\n",
       "      <td>0.03</td>\n",
       "      <td>surf</td>\n",
       "      <td>15.0</td>\n",
       "      <td>0.0</td>\n",
       "      <td>0.09</td>\n",
       "      <td>70.0</td>\n",
       "      <td>90.09</td>\n",
       "    </tr>\n",
       "    <tr>\n",
       "      <th>4</th>\n",
       "      <td>1001</td>\n",
       "      <td>11</td>\n",
       "      <td>64.0</td>\n",
       "      <td>426.0</td>\n",
       "      <td>36.0</td>\n",
       "      <td>18504.30</td>\n",
       "      <td>19.0</td>\n",
       "      <td>surf</td>\n",
       "      <td>Seattle-Tacoma-Bellevue, WA MSA</td>\n",
       "      <td>50</td>\n",
       "      <td>...</td>\n",
       "      <td>20</td>\n",
       "      <td>10</td>\n",
       "      <td>0.03</td>\n",
       "      <td>0.03</td>\n",
       "      <td>surf</td>\n",
       "      <td>15.0</td>\n",
       "      <td>0.0</td>\n",
       "      <td>0.00</td>\n",
       "      <td>40.0</td>\n",
       "      <td>60.00</td>\n",
       "    </tr>\n",
       "  </tbody>\n",
       "</table>\n",
       "<p>5 rows × 22 columns</p>\n",
       "</div>"
      ],
      "text/plain": [
       "   user_id  month  calls_made  total_duration  total_message  \\\n",
       "0     1000     12        16.0           124.0           11.0   \n",
       "1     1001      8        27.0           182.0           30.0   \n",
       "2     1001      9        49.0           315.0           44.0   \n",
       "3     1001     10        65.0           393.0           53.0   \n",
       "4     1001     11        64.0           426.0           36.0   \n",
       "\n",
       "   total_mb_monthly  total_gb_monthly      plan  \\\n",
       "0           1901.47               2.0  ultimate   \n",
       "1           6919.15               7.0      surf   \n",
       "2          13314.82              14.0      surf   \n",
       "3          22330.49              22.0      surf   \n",
       "4          18504.30              19.0      surf   \n",
       "\n",
       "                                    city  messages_included  ...  \\\n",
       "0  Atlanta-Sandy Springs-Roswell, GA MSA               1000  ...   \n",
       "1        Seattle-Tacoma-Bellevue, WA MSA                 50  ...   \n",
       "2        Seattle-Tacoma-Bellevue, WA MSA                 50  ...   \n",
       "3        Seattle-Tacoma-Bellevue, WA MSA                 50  ...   \n",
       "4        Seattle-Tacoma-Bellevue, WA MSA                 50  ...   \n",
       "\n",
       "   usd_monthly_pay  usd_per_gb  usd_per_message  usd_per_minute  plan_name  \\\n",
       "0               70           7             0.01            0.01   ultimate   \n",
       "1               20          10             0.03            0.03       surf   \n",
       "2               20          10             0.03            0.03       surf   \n",
       "3               20          10             0.03            0.03       surf   \n",
       "4               20          10             0.03            0.03       surf   \n",
       "\n",
       "   gb_per_month_included calls_revenue  messages_revenue  volume_gb_revenue  \\\n",
       "0                   30.0           0.0              0.00                0.0   \n",
       "1                   15.0           0.0              0.00                0.0   \n",
       "2                   15.0           0.0              0.00                0.0   \n",
       "3                   15.0           0.0              0.09               70.0   \n",
       "4                   15.0           0.0              0.00               40.0   \n",
       "\n",
       "   total_revenue  \n",
       "0          70.00  \n",
       "1          20.00  \n",
       "2          20.00  \n",
       "3          90.09  \n",
       "4          60.00  \n",
       "\n",
       "[5 rows x 22 columns]"
      ]
     },
     "execution_count": 69,
     "metadata": {},
     "output_type": "execute_result"
    }
   ],
   "source": [
    "df_monthly.head()"
   ]
  },
  {
   "cell_type": "markdown",
   "metadata": {},
   "source": [
    "supaya total revenue per bulan terlihat lebih jelas, dilihat dari grafik untuk kedua plan yaitu surf dan ultimate"
   ]
  },
  {
   "cell_type": "code",
   "execution_count": 70,
   "metadata": {},
   "outputs": [],
   "source": [
    "total_profit_month_plan = df_monthly.groupby(['plan','month']\n",
    "                                            )['total_revenue'].sum().reset_index()"
   ]
  },
  {
   "cell_type": "code",
   "execution_count": 71,
   "metadata": {},
   "outputs": [
    {
     "data": {
      "text/plain": [
       "Text(0.5, 1.0, 'Total monthly profit for the \"Surf\" plan')"
      ]
     },
     "execution_count": 71,
     "metadata": {},
     "output_type": "execute_result"
    },
    {
     "data": {
      "image/png": "[encoded data removed]",
      "text/plain": [
       "<Figure size 432x288 with 1 Axes>"
      ]
     },
     "metadata": {
      "needs_background": "light"
     },
     "output_type": "display_data"
    }
   ],
   "source": [
    "total_profit_month_plan[total_profit_month_plan['plan'] == 'surf'].plot(y='total_revenue', x='month', kind='bar')\n",
    "plt.title('Total monthly profit for the \"Surf\" plan')\n"
   ]
  },
  {
   "cell_type": "markdown",
   "metadata": {},
   "source": [
    "<li>keuntungan cukup tinggi dan mulai meningkat pada semester ke-2 tahun 2018, puncaknya di bulan Desember 2018.  \n",
    "<li>keuntungan dari plan surf ini juga dapat dianalisa bahwa alokasi besaran untuk calls, messages dan volume data tidak besar (jika dibandingkan dengan plan ultimate). Hal ini (mungkin saja) menjadikan pemakaian customers melebihi batas alokasi besaran yang telah ditentukan, artinya income tambahan bagi perusahaan. "
   ]
  },
  {
   "cell_type": "code",
   "execution_count": 72,
   "metadata": {},
   "outputs": [
    {
     "data": {
      "text/plain": [
       "Text(0.5, 1.0, 'Total monthly profit for the \"Ultimate\" plan')"
      ]
     },
     "execution_count": 72,
     "metadata": {},
     "output_type": "execute_result"
    },
    {
     "data": {
      "image/png": "[encoded data removed]",
      "text/plain": [
       "<Figure size 432x288 with 1 Axes>"
      ]
     },
     "metadata": {
      "needs_background": "light"
     },
     "output_type": "display_data"
    }
   ],
   "source": [
    "total_profit_month_plan[total_profit_month_plan['plan'] == 'ultimate'].plot(y='total_revenue', x='month', kind='bar')\n",
    "plt.title('Total monthly profit for the \"Ultimate\" plan')"
   ]
  },
  {
   "cell_type": "code",
   "execution_count": 73,
   "metadata": {},
   "outputs": [],
   "source": [
    "ultimate_1= df_monthly[['plan','total_duration']]"
   ]
  },
  {
   "cell_type": "code",
   "execution_count": 74,
   "metadata": {},
   "outputs": [
    {
     "data": {
      "text/plain": [
       "(720, 2)"
      ]
     },
     "execution_count": 74,
     "metadata": {},
     "output_type": "execute_result"
    }
   ],
   "source": [
    "ultimate_1.loc[ultimate_1['plan']=='ultimate'].shape"
   ]
  },
  {
   "cell_type": "code",
   "execution_count": 128,
   "metadata": {},
   "outputs": [
    {
     "data": {
      "text/plain": [
       "plan              720\n",
       "total_duration    720\n",
       "dtype: int64"
      ]
     },
     "execution_count": 128,
     "metadata": {},
     "output_type": "execute_result"
    }
   ],
   "source": [
    "ultimate_1.loc[(ultimate_1['plan']=='ultimate') & (ultimate_1['total_duration']<3000)].count()"
   ]
  },
  {
   "cell_type": "markdown",
   "metadata": {},
   "source": [
    "<li>Keuntungan dari plan ultimate tidak sebesar plan surf namun memiliki pola yang mirip yaitu semakin meningkat mendekati akhir tahun.  \n",
    "<li>Salah satu penyebab dari perbedaan keuntungan ini terkait dengan batasan paket yang diberikan. Terlihat untuk plan ultimate tidak ada users yang memakai fasilitas melebihi dari batas yang diberikan artinya tidak ada income tambahan bagi Megaline.\n",
    "<li>plan ultimate ini harus dikaji ulang karena kurang cocok dengan customer's behavior selain juga customer's profile perlu dilihat ulang agar memberikan keuntungan optimal bagi perusahaan"
   ]
  },
  {
   "cell_type": "markdown",
   "metadata": {},
   "source": [
    "__EDA__"
   ]
  },
  {
   "cell_type": "markdown",
   "metadata": {},
   "source": [
    "Instruksi: \n",
    "<br>Deskripsikan perilaku konsumen. Temukan menit, pesan, dan volume penggunaan data seluler yang dibutuhkan pengguna setiap paket per bulan. Hitung rata-rata, varians, dan standar deviasinya. Buatlah histogram. Deskripsikan distribusinya."
   ]
  },
  {
   "cell_type": "markdown",
   "metadata": {},
   "source": [
    "<div class=\"alert alert-block alert-info\">\n",
    "<b> Menemukan menit (TOTAL DURATION) dengan mean, varians dan standard deviasi\n",
    "</div>"
   ]
  },
  {
   "cell_type": "markdown",
   "metadata": {},
   "source": [
    "SURF"
   ]
  },
  {
   "cell_type": "code",
   "execution_count": 76,
   "metadata": {},
   "outputs": [],
   "source": [
    "df_surf= df_monthly[df_monthly['plan']=='surf']\n",
    "df_ultimate=df_monthly[df_monthly['plan']=='ultimate']"
   ]
  },
  {
   "cell_type": "code",
   "execution_count": 77,
   "metadata": {},
   "outputs": [
    {
     "data": {
      "text/plain": [
       "Text(0, 0.5, 'frequency')"
      ]
     },
     "execution_count": 77,
     "metadata": {},
     "output_type": "execute_result"
    },
    {
     "data": {
      "image/png": "[encoded data removed]",
      "text/plain": [
       "<Figure size 432x288 with 1 Axes>"
      ]
     },
     "metadata": {
      "needs_background": "light"
     },
     "output_type": "display_data"
    }
   ],
   "source": [
    "df_surf.hist('total_duration')\n",
    "plt.xlabel('minutes')\n",
    "plt.ylabel('frequency')"
   ]
  },
  {
   "cell_type": "code",
   "execution_count": 78,
   "metadata": {},
   "outputs": [
    {
     "data": {
      "text/plain": [
       "count    1573.000000\n",
       "mean      428.749523\n",
       "std       234.453150\n",
       "min         0.000000\n",
       "25%       272.000000\n",
       "50%       425.000000\n",
       "75%       576.000000\n",
       "max      1510.000000\n",
       "Name: total_duration, dtype: float64"
      ]
     },
     "execution_count": 78,
     "metadata": {},
     "output_type": "execute_result"
    }
   ],
   "source": [
    "df_surf['total_duration'].describe()"
   ]
  },
  {
   "cell_type": "code",
   "execution_count": 79,
   "metadata": {},
   "outputs": [
    {
     "name": "stdout",
     "output_type": "stream",
     "text": [
      "average monthly calls length in minutes for plan \"Surf\":429\n",
      "varians monthly calls length in minutes for plan \"Surf\":54968\n",
      "standard deviation monthly calls length in minutes for plan \"Surf\":234\n"
     ]
    }
   ],
   "source": [
    "print('average monthly calls length in minutes for plan \"Surf\":{:.0f}'.format(df_surf['total_duration'].mean()))\n",
    "print('varians monthly calls length in minutes for plan \"Surf\":{:.0f}'.format(df_surf.var()['total_duration']))\n",
    "print('standard deviation monthly calls length in minutes for plan \"Surf\":{:.0f}'.format(df_surf['total_duration'].std()))"
   ]
  },
  {
   "cell_type": "code",
   "execution_count": 80,
   "metadata": {},
   "outputs": [
    {
     "data": {
      "text/plain": [
       "<AxesSubplot:>"
      ]
     },
     "execution_count": 80,
     "metadata": {},
     "output_type": "execute_result"
    },
    {
     "data": {
      "image/png": "[encoded data removed]",
      "text/plain": [
       "<Figure size 432x288 with 1 Axes>"
      ]
     },
     "metadata": {
      "needs_background": "light"
     },
     "output_type": "display_data"
    }
   ],
   "source": [
    "df_surf['total_duration'].plot(kind='box')"
   ]
  },
  {
   "cell_type": "markdown",
   "metadata": {},
   "source": [
    "Nilai mean dapat dijadikan patokan karena nilai std tidak lebih besar dari mean, sedangkan varians adalah kuadrat dari std yang menunjukkan persebaran data atau banyaknya outliers (dapat terlihat pada boxplot). Dapat dilihat juga bahwa median dengan mean nilainya tidak berbeda significant hanya selisih 3 point (428 dan 425). "
   ]
  },
  {
   "cell_type": "markdown",
   "metadata": {},
   "source": [
    "ULTIMATE"
   ]
  },
  {
   "cell_type": "code",
   "execution_count": 81,
   "metadata": {},
   "outputs": [
    {
     "data": {
      "text/plain": [
       "Text(0, 0.5, 'frequency')"
      ]
     },
     "execution_count": 81,
     "metadata": {},
     "output_type": "execute_result"
    },
    {
     "data": {
      "image/png": "[encoded data removed]",
      "text/plain": [
       "<Figure size 432x288 with 1 Axes>"
      ]
     },
     "metadata": {
      "needs_background": "light"
     },
     "output_type": "display_data"
    }
   ],
   "source": [
    "df_ultimate.hist('total_duration')\n",
    "plt.xlabel('minutes')\n",
    "plt.ylabel('frequency')"
   ]
  },
  {
   "cell_type": "code",
   "execution_count": 82,
   "metadata": {},
   "outputs": [
    {
     "data": {
      "text/plain": [
       "count     720.000000\n",
       "mean      430.450000\n",
       "std       240.508762\n",
       "min         0.000000\n",
       "25%       260.000000\n",
       "50%       424.000000\n",
       "75%       565.250000\n",
       "max      1369.000000\n",
       "Name: total_duration, dtype: float64"
      ]
     },
     "execution_count": 82,
     "metadata": {},
     "output_type": "execute_result"
    }
   ],
   "source": [
    "df_ultimate['total_duration'].describe()"
   ]
  },
  {
   "cell_type": "code",
   "execution_count": 83,
   "metadata": {},
   "outputs": [
    {
     "name": "stdout",
     "output_type": "stream",
     "text": [
      "average monthly calls length in minutes for plan \"Ultimate\":430\n",
      "varians monthly calls length in minutes for plan \"Ultimate\":57844\n",
      "standard deviation monthly calls length in minutes for plan \"Ultimate\":241\n"
     ]
    }
   ],
   "source": [
    "print('average monthly calls length in minutes for plan \"Ultimate\":{:.0f}'.format(df_ultimate['total_duration'].mean()))\n",
    "print('varians monthly calls length in minutes for plan \"Ultimate\":{:.0f}'.format(df_ultimate.var()['total_duration']))\n",
    "print('standard deviation monthly calls length in minutes for plan \"Ultimate\":{:.0f}'.format(df_ultimate['total_duration'].std()))"
   ]
  },
  {
   "cell_type": "code",
   "execution_count": 84,
   "metadata": {},
   "outputs": [
    {
     "data": {
      "text/plain": [
       "<AxesSubplot:>"
      ]
     },
     "execution_count": 84,
     "metadata": {},
     "output_type": "execute_result"
    },
    {
     "data": {
      "image/png": "[encoded data removed]",
      "text/plain": [
       "<Figure size 432x288 with 1 Axes>"
      ]
     },
     "metadata": {
      "needs_background": "light"
     },
     "output_type": "display_data"
    }
   ],
   "source": [
    "df_ultimate['total_duration'].plot(kind='box')"
   ]
  },
  {
   "cell_type": "markdown",
   "metadata": {},
   "source": [
    "tidak berbeda jauh dari plan \"Surf\". Outliers dapat dikatakan tidak mengganggu distribusi data baik untuk surf maupun ultimate. Calls baik surf maupun ultimate berkisar di 424 sd 430 menit per bulan. "
   ]
  },
  {
   "cell_type": "markdown",
   "metadata": {},
   "source": [
    "Diketahui dari data plan di column \"minutes_included\" bahwa alokasi untuk plan surf adalah 500 menit dan 3000 menit pada plan ultimate. Dapat disimpulkan bahwa: \n",
    "<br>\n",
    "<li>untuk customers plan surf pemakain cukup maksimal yaitu mendekati 500 menit per bulan. \n",
    "<li>sedangkan untuk customers plan ultimate terlihat penggunaan calls masih jauh dari alokasi calls per bulan yang tersedia. Sehingga ongkos biaya > pemakaian, tidak aneh untuk plan ultimate ini perusahaan mengalami kerugian cukup besar.   \n",
    "<br>Mari lihat berapa banyak customers yang melakukan calls melebihi batas. "
   ]
  },
  {
   "cell_type": "code",
   "execution_count": 85,
   "metadata": {},
   "outputs": [
    {
     "name": "stdout",
     "output_type": "stream",
     "text": [
      "SURF customers who are exceeded the limit:566\n",
      "Ratio SURF customers who are exceeded the limit:36%\n"
     ]
    }
   ],
   "source": [
    "print('SURF customers who are exceeded the limit:{:.0f}'.format(len(df_surf.query('total_duration>500'))))\n",
    "print('Ratio SURF customers who are exceeded the limit:{:.0%}'.format(len(df_surf.query('total_duration>500'))\n",
    "                                                                      /len(df_surf['total_duration'])))"
   ]
  },
  {
   "cell_type": "markdown",
   "metadata": {},
   "source": [
    "Srategi Megaline untuk customer plan SURF ini memang tepat, ada 36% customers yang memberikan profit tambahan untuk megaline. Sedangkan untuk plan Ultimate batasannya harus ditinjau ulang dengan target segmen yang tepat. "
   ]
  },
  {
   "cell_type": "markdown",
   "metadata": {},
   "source": [
    "<div class=\"alert alert-block alert-info\">\n",
    "<b> Menemukan pesan (MESSAGES) dengan mean, varians dan standard deviasi\n",
    "</div>"
   ]
  },
  {
   "cell_type": "markdown",
   "metadata": {},
   "source": [
    "SURF"
   ]
  },
  {
   "cell_type": "code",
   "execution_count": 86,
   "metadata": {},
   "outputs": [
    {
     "data": {
      "text/plain": [
       "Text(0, 0.5, 'frequency')"
      ]
     },
     "execution_count": 86,
     "metadata": {},
     "output_type": "execute_result"
    },
    {
     "data": {
      "image/png": "[encoded data removed]",
      "text/plain": [
       "<Figure size 432x288 with 1 Axes>"
      ]
     },
     "metadata": {
      "needs_background": "light"
     },
     "output_type": "display_data"
    }
   ],
   "source": [
    "df_surf.hist('total_message')\n",
    "plt.xlabel('number of messages')\n",
    "plt.ylabel('frequency')"
   ]
  },
  {
   "cell_type": "code",
   "execution_count": 87,
   "metadata": {},
   "outputs": [
    {
     "data": {
      "text/plain": [
       "count    1573.000000\n",
       "mean       31.159568\n",
       "std        33.566717\n",
       "min         0.000000\n",
       "25%         3.000000\n",
       "50%        24.000000\n",
       "75%        47.000000\n",
       "max       266.000000\n",
       "Name: total_message, dtype: float64"
      ]
     },
     "execution_count": 87,
     "metadata": {},
     "output_type": "execute_result"
    }
   ],
   "source": [
    "df_surf['total_message'].describe()"
   ]
  },
  {
   "cell_type": "code",
   "execution_count": 88,
   "metadata": {},
   "outputs": [
    {
     "name": "stdout",
     "output_type": "stream",
     "text": [
      "average monthly number of messages for plan \"Surf\":31\n",
      "varians monthly number of messages for plan \"Surf\":1127\n",
      "standard deviation monthly number of messages for plan \"Surf\":34\n"
     ]
    }
   ],
   "source": [
    "print('average monthly number of messages for plan \"Surf\":{:.0f}'.format(df_surf['total_message'].mean()))\n",
    "print('varians monthly number of messages for plan \"Surf\":{:.0f}'.format(df_surf.var()['total_message']))\n",
    "print('standard deviation monthly number of messages for plan \"Surf\":{:.0f}'.format(df_surf['total_message'].std()))"
   ]
  },
  {
   "cell_type": "code",
   "execution_count": 89,
   "metadata": {},
   "outputs": [
    {
     "data": {
      "text/plain": [
       "<AxesSubplot:>"
      ]
     },
     "execution_count": 89,
     "metadata": {},
     "output_type": "execute_result"
    },
    {
     "data": {
      "image/png": "[encoded data removed]",
      "text/plain": [
       "<Figure size 432x288 with 1 Axes>"
      ]
     },
     "metadata": {
      "needs_background": "light"
     },
     "output_type": "display_data"
    }
   ],
   "source": [
    "df_surf.total_message.plot(kind='box')"
   ]
  },
  {
   "cell_type": "markdown",
   "metadata": {},
   "source": [
    "ULTIMATE"
   ]
  },
  {
   "cell_type": "code",
   "execution_count": 90,
   "metadata": {},
   "outputs": [
    {
     "data": {
      "text/plain": [
       "Text(0, 0.5, 'frequency')"
      ]
     },
     "execution_count": 90,
     "metadata": {},
     "output_type": "execute_result"
    },
    {
     "data": {
      "image/png": "[encoded data removed]",
      "text/plain": [
       "<Figure size 432x288 with 1 Axes>"
      ]
     },
     "metadata": {
      "needs_background": "light"
     },
     "output_type": "display_data"
    }
   ],
   "source": [
    "df_ultimate.hist('total_message')\n",
    "plt.xlabel('number of messages')\n",
    "plt.ylabel('frequency')"
   ]
  },
  {
   "cell_type": "code",
   "execution_count": 91,
   "metadata": {},
   "outputs": [
    {
     "data": {
      "text/plain": [
       "count    720.000000\n",
       "mean      37.551389\n",
       "std       34.767179\n",
       "min        0.000000\n",
       "25%        7.000000\n",
       "50%       30.000000\n",
       "75%       61.000000\n",
       "max      166.000000\n",
       "Name: total_message, dtype: float64"
      ]
     },
     "execution_count": 91,
     "metadata": {},
     "output_type": "execute_result"
    }
   ],
   "source": [
    "df_ultimate.total_message.describe()"
   ]
  },
  {
   "cell_type": "code",
   "execution_count": 92,
   "metadata": {},
   "outputs": [
    {
     "name": "stdout",
     "output_type": "stream",
     "text": [
      "average monthly number of messages for plan \"Ultimate\":38\n",
      "varians monthly number of messages for plan \"Ultimate\":1209\n",
      "standard deviation monthly number of messages for plan \"Ultimate\":35\n"
     ]
    }
   ],
   "source": [
    "print('average monthly number of messages for plan \"Ultimate\":{:.0f}'.format(df_ultimate['total_message'].mean()))\n",
    "print('varians monthly number of messages for plan \"Ultimate\":{:.0f}'.format(df_ultimate.var()['total_message']))\n",
    "print('standard deviation monthly number of messages for plan \"Ultimate\":{:.0f}'.format(df_ultimate['total_message'].std()))"
   ]
  },
  {
   "cell_type": "code",
   "execution_count": 93,
   "metadata": {},
   "outputs": [
    {
     "data": {
      "text/plain": [
       "<AxesSubplot:>"
      ]
     },
     "execution_count": 93,
     "metadata": {},
     "output_type": "execute_result"
    },
    {
     "data": {
      "image/png": "[encoded data removed]",
      "text/plain": [
       "<Figure size 432x288 with 1 Axes>"
      ]
     },
     "metadata": {
      "needs_background": "light"
     },
     "output_type": "display_data"
    }
   ],
   "source": [
    "df_ultimate.total_message.plot(kind='box')"
   ]
  },
  {
   "cell_type": "markdown",
   "metadata": {},
   "source": [
    "<li>kedua plan menunjukkan kemiringan grafik positif dimana nilai mean dengan std hampir sama (tidak beda jauh) artinya outliers tidak terlalu significant baik jumlah maupun besarannya. \n",
    "<li>dari kolom messages_included diketahui batas untuk plan surf adalah 50 messages per bulan sedangkan untuk plan ultimate adalah 1000 messages per bulan. Untuk customers plan surf dapat disimpulkan (lagi-lagi) penggunaan messages hanya mendekati batas paket yang tersedia (tidak ada charge tambahan). Sedangkan untuk customers plan ultimate sepertinya mereka juga tidak tertarik untuk mengirimkan message yang lebih banyak dari teman mereka di plan surf walaupun alokasi message yang tersedia sangat besar. Sepertinya plan ultimate ini tidak efektif menyasar segmen yang tepat. "
   ]
  },
  {
   "cell_type": "code",
   "execution_count": 94,
   "metadata": {},
   "outputs": [
    {
     "name": "stdout",
     "output_type": "stream",
     "text": [
      "SURF customers who are exceeded the limit:340\n",
      "Ratio SURF customers who are exceeded the limit:22%\n"
     ]
    }
   ],
   "source": [
    "print('SURF customers who are exceeded the limit:{:.0f}'.format(len(df_surf.query('total_message>50'))))\n",
    "print('Ratio SURF customers who are exceeded the limit:{:.0%}'.format(len(df_surf.query('total_message>50'))\n",
    "                                                                      /len(df_surf['total_message'])))"
   ]
  },
  {
   "cell_type": "markdown",
   "metadata": {},
   "source": [
    "Profit tambahan sebesar 22% customers dari pengiriman pesan untuk plan Surf. Sedangkan plan Ultimate menambah production cost dan tidak memberi tambahan income Megaline. "
   ]
  },
  {
   "cell_type": "markdown",
   "metadata": {},
   "source": [
    "<div class=\"alert alert-block alert-info\">\n",
    "<b> Menemukan volume penggunaan data seluler dengan mean, variance dan standard deviasi\n",
    "</div>"
   ]
  },
  {
   "cell_type": "markdown",
   "metadata": {},
   "source": [
    "SURF"
   ]
  },
  {
   "cell_type": "code",
   "execution_count": 95,
   "metadata": {},
   "outputs": [
    {
     "data": {
      "text/plain": [
       "Text(0, 0.5, 'frequency')"
      ]
     },
     "execution_count": 95,
     "metadata": {},
     "output_type": "execute_result"
    },
    {
     "data": {
      "image/png": "[encoded data removed]",
      "text/plain": [
       "<Figure size 432x288 with 1 Axes>"
      ]
     },
     "metadata": {
      "needs_background": "light"
     },
     "output_type": "display_data"
    }
   ],
   "source": [
    "df_surf.hist('total_gb_monthly')\n",
    "plt.xlabel('gigabytes')\n",
    "plt.ylabel('frequency')"
   ]
  },
  {
   "cell_type": "code",
   "execution_count": 96,
   "metadata": {},
   "outputs": [
    {
     "data": {
      "text/plain": [
       "count    1573.000000\n",
       "mean       16.670693\n",
       "std         7.847522\n",
       "min         0.000000\n",
       "25%        12.000000\n",
       "50%        17.000000\n",
       "75%        21.000000\n",
       "max        70.000000\n",
       "Name: total_gb_monthly, dtype: float64"
      ]
     },
     "execution_count": 96,
     "metadata": {},
     "output_type": "execute_result"
    }
   ],
   "source": [
    "df_surf.total_gb_monthly.describe()"
   ]
  },
  {
   "cell_type": "code",
   "execution_count": 97,
   "metadata": {},
   "outputs": [
    {
     "name": "stdout",
     "output_type": "stream",
     "text": [
      "average monthly volume of data for plan \"Surf\":17\n",
      "varians monthly volume of data for plan \"Surf\":62\n",
      "standard deviation monthly volume of data for plan \"Surf\":8\n"
     ]
    }
   ],
   "source": [
    "print('average monthly volume of data for plan \"Surf\":{:.0f}'.format(df_surf['total_gb_monthly'].mean()))\n",
    "print('varians monthly volume of data for plan \"Surf\":{:.0f}'.format(df_surf.var()['total_gb_monthly']))\n",
    "print('standard deviation monthly volume of data for plan \"Surf\":{:.0f}'.format(df_surf['total_gb_monthly'].std()))"
   ]
  },
  {
   "cell_type": "code",
   "execution_count": 98,
   "metadata": {},
   "outputs": [
    {
     "data": {
      "text/plain": [
       "<AxesSubplot:>"
      ]
     },
     "execution_count": 98,
     "metadata": {},
     "output_type": "execute_result"
    },
    {
     "data": {
      "image/png": "[encoded data removed]",
      "text/plain": [
       "<Figure size 432x288 with 1 Axes>"
      ]
     },
     "metadata": {
      "needs_background": "light"
     },
     "output_type": "display_data"
    }
   ],
   "source": [
    "df_surf.total_gb_monthly.plot(kind='box')"
   ]
  },
  {
   "cell_type": "markdown",
   "metadata": {},
   "source": [
    "ULTIMATE"
   ]
  },
  {
   "cell_type": "code",
   "execution_count": 99,
   "metadata": {},
   "outputs": [
    {
     "data": {
      "text/plain": [
       "Text(0, 0.5, 'frequency')"
      ]
     },
     "execution_count": 99,
     "metadata": {},
     "output_type": "execute_result"
    },
    {
     "data": {
      "image/png": "[encoded data removed]",
      "text/plain": [
       "<Figure size 432x288 with 1 Axes>"
      ]
     },
     "metadata": {
      "needs_background": "light"
     },
     "output_type": "display_data"
    }
   ],
   "source": [
    "df_ultimate.hist('total_gb_monthly')\n",
    "plt.xlabel('gigabytes')\n",
    "plt.ylabel('frequency')"
   ]
  },
  {
   "cell_type": "code",
   "execution_count": 100,
   "metadata": {},
   "outputs": [
    {
     "data": {
      "text/plain": [
       "count    720.000000\n",
       "mean      17.306944\n",
       "std        7.670108\n",
       "min        0.000000\n",
       "25%       13.000000\n",
       "50%       17.000000\n",
       "75%       21.000000\n",
       "max       46.000000\n",
       "Name: total_gb_monthly, dtype: float64"
      ]
     },
     "execution_count": 100,
     "metadata": {},
     "output_type": "execute_result"
    }
   ],
   "source": [
    "df_ultimate.total_gb_monthly.describe()"
   ]
  },
  {
   "cell_type": "code",
   "execution_count": 101,
   "metadata": {},
   "outputs": [
    {
     "name": "stdout",
     "output_type": "stream",
     "text": [
      "average monthly volume of data for plan \"Ultimate\":17\n",
      "varians monthly volume of data for plan \"Ultimate\":59\n",
      "standard deviation monthly volume of data for plan \"Ultimate\":8\n"
     ]
    }
   ],
   "source": [
    "print('average monthly volume of data for plan \"Ultimate\":{:.0f}'.format(df_ultimate['total_gb_monthly'].mean()))\n",
    "print('varians monthly volume of data for plan \"Ultimate\":{:.0f}'.format(df_ultimate.var()['total_gb_monthly']))\n",
    "print('standard deviation monthly volume of data for plan \"Ultimate\":{:.0f}'.format(df_ultimate['total_gb_monthly'].std()))"
   ]
  },
  {
   "cell_type": "code",
   "execution_count": 102,
   "metadata": {},
   "outputs": [
    {
     "data": {
      "text/plain": [
       "<AxesSubplot:>"
      ]
     },
     "execution_count": 102,
     "metadata": {},
     "output_type": "execute_result"
    },
    {
     "data": {
      "image/png": "[encoded data removed]",
      "text/plain": [
       "<Figure size 432x288 with 1 Axes>"
      ]
     },
     "metadata": {
      "needs_background": "light"
     },
     "output_type": "display_data"
    }
   ],
   "source": [
    "df_ultimate.total_gb_monthly.plot(kind='box')"
   ]
  },
  {
   "cell_type": "markdown",
   "metadata": {},
   "source": [
    "<li>nilai outliers untuk kedua plan tidak berpengaruh significant terlihat dari nilai std yang jauh < nilai mean. \n",
    "<li>nilai mean dan median kedua plan bernilai sama yaitu 17 artinya distribusi data bersifat normal. \n",
    "<li>paket volume data untuk plan surf adalah 16GB per bulan sedangkan untuk plan ultimate adalah 31GB per bulan, sedangkan penggunaan volume data per bulan oleh customers kedua plan hanya 17GB per bulan artinya customers plan surf sudah melebihi dari batas quota yang tersedia (artinya alokasi volume data oleh perusahaan full efektif digunakan oleh customers sehingga ada charge tambahan) dan cusomters plan ultimate hanya memakai setengah dari volume data yang tersedia sehingga tidak memberikan revenue yang diharapkan oleh perusahaan. "
   ]
  },
  {
   "cell_type": "code",
   "execution_count": 103,
   "metadata": {},
   "outputs": [
    {
     "name": "stdout",
     "output_type": "stream",
     "text": [
      "SURF customers who are exceeded the limit:832\n",
      "Ratio SURF customers who are exceeded the limit:53%\n"
     ]
    }
   ],
   "source": [
    "print('SURF customers who are exceeded the limit:{:.0f}'.format(len(df_surf.query('total_gb_monthly>16'))))\n",
    "print('Ratio SURF customers who are exceeded the limit:{:.0%}'.format(len(df_surf.query('total_gb_monthly>16'))\n",
    "                                                                      /len(df_surf['total_gb_monthly'])))"
   ]
  },
  {
   "cell_type": "markdown",
   "metadata": {},
   "source": [
    "Angka yang membuat Megaline semakin bersedia untuk memberikan bonus tambahan kepada karyawannya yang telah berjasa memberikan profit tambahan dari lebih dari 50% customers untuk penggunaan volume data ini. "
   ]
  },
  {
   "cell_type": "markdown",
   "metadata": {},
   "source": [
    "REMOVAL OUTLIERS FROM DATA: TOTAL DURATION, TOTAL MESSAGE and TOTAL GB Monthly"
   ]
  },
  {
   "cell_type": "code",
   "execution_count": 104,
   "metadata": {},
   "outputs": [],
   "source": [
    "outlier_columns=['total_duration','total_message','total_gb_monthly']"
   ]
  },
  {
   "cell_type": "code",
   "execution_count": 105,
   "metadata": {},
   "outputs": [],
   "source": [
    "def upper_lower_whisker(column):\n",
    "    Q1  = df[column].quantile(0.25)\n",
    "    Q3  = df[column].quantile(0.75)\n",
    "    IQR = Q3 - Q1\n",
    "    lower_whisker = Q1 - 1.5*IQR\n",
    "    upper_whisker = Q3 + 1.5*IQR\n",
    "    return lower_whisker, upper_whisker\n",
    "\n",
    "#df_monthly = df.copy()"
   ]
  },
  {
   "cell_type": "code",
   "execution_count": 106,
   "metadata": {},
   "outputs": [
    {
     "name": "stdout",
     "output_type": "stream",
     "text": [
      "\n",
      "Surf\n",
      "start cleaning outlier on  total_duration\n",
      "cleaning outlier on  total_duration  was finished!\n",
      "start cleaning outlier on  total_message\n",
      "cleaning outlier on  total_message  was finished!\n",
      "start cleaning outlier on  total_gb_monthly\n",
      "cleaning outlier on  total_gb_monthly  was finished!\n",
      "\n",
      "Ultimate\n",
      "start cleaning outlier on  total_duration\n",
      "cleaning outlier on  total_duration  was finished!\n",
      "start cleaning outlier on  total_message\n",
      "cleaning outlier on  total_message  was finished!\n",
      "start cleaning outlier on  total_gb_monthly\n",
      "cleaning outlier on  total_gb_monthly  was finished!\n"
     ]
    }
   ],
   "source": [
    "df_surf.name = \"Surf\"\n",
    "df_ultimate.name = \"Ultimate\"\n",
    "for df in [df_surf,df_ultimate]:\n",
    "    print()\n",
    "    print(df.name)\n",
    "    for column in outlier_columns:\n",
    "        print('start cleaning outlier on ', column)\n",
    "        lower, upper = upper_lower_whisker(column)\n",
    "        df_surf = df_surf[(df_surf[column] > lower) & (df_surf[column] < upper )]\n",
    "        df_ultimate= df_ultimate[(df_ultimate[column] > lower) & (df_ultimate[column] < upper )]\n",
    "        print('cleaning outlier on ', column, ' was finished!')"
   ]
  },
  {
   "cell_type": "markdown",
   "metadata": {},
   "source": [
    "__PENGUJIAN HIPOTESIS__"
   ]
  },
  {
   "cell_type": "markdown",
   "metadata": {},
   "source": [
    "1. Rata-rata pendapatan dari pengguna paket telepon Ultimate dan Surf berbeda.\n",
    "2. Rata-rata pendapatan dari pengguna di wilayah NY-NJ berbeda dengan pendapatan pengguna dari wilayah lain.\n",
    "3. Anda dapat menentukan seberapa besar nilai \"alpha\" yang akan digunakan.\n",
    "<br>Jelaskan:\n",
    "<li>Bagaimana Anda merumuskan hipotesis nol dan hipotesis alternatif.\n",
    "<li>Kriteria apa yang Anda gunakan untuk menguji hipotesis dan alasan penggunaannya.\n"
   ]
  },
  {
   "cell_type": "markdown",
   "metadata": {},
   "source": [
    "Untuk pengujian hipotesis ini perlu ditetap kan H0 (hipotesis nol) dan H1(alternative hypothesis - hal yang diharapkan) serta signifikansi statistik (ambang batas) yaitu alpha. "
   ]
  },
  {
   "cell_type": "markdown",
   "metadata": {},
   "source": [
    "<div class=\"alert alert-block alert-info\">\n",
    "<b> RATA-RATA PENDAPATAN DARI PENGGUNA PAKET TELEPON ULTIMATE dan SURF BERBEDA?\n",
    "</div>"
   ]
  },
  {
   "cell_type": "markdown",
   "metadata": {},
   "source": [
    "H0 = Rata-rata pendapatan dari pengguna paket telepon Ultimate dan Surf sama\n",
    "<br>H1 = Rata-rata pendapatan dari pengguna paket telepon Ultimate dan Surf berbeda\n",
    "<br>Alpha ditetapkan untuk pengujian hipotesis ini sebesar 5%"
   ]
  },
  {
   "cell_type": "code",
   "execution_count": 107,
   "metadata": {},
   "outputs": [
    {
     "data": {
      "text/plain": [
       "count    646.000000\n",
       "mean      70.119195\n",
       "std        1.130152\n",
       "min       70.000000\n",
       "25%       70.000000\n",
       "50%       70.000000\n",
       "75%       70.000000\n",
       "max       84.000000\n",
       "Name: total_revenue, dtype: float64"
      ]
     },
     "execution_count": 107,
     "metadata": {},
     "output_type": "execute_result"
    }
   ],
   "source": [
    "df_ultimate.total_revenue.describe()"
   ]
  },
  {
   "cell_type": "code",
   "execution_count": 108,
   "metadata": {},
   "outputs": [
    {
     "data": {
      "text/plain": [
       "count    1431.000000\n",
       "mean       53.769371\n",
       "std        39.692643\n",
       "min        20.000000\n",
       "25%        20.000000\n",
       "50%        40.000000\n",
       "75%        80.000000\n",
       "max       193.350000\n",
       "Name: total_revenue, dtype: float64"
      ]
     },
     "execution_count": 108,
     "metadata": {},
     "output_type": "execute_result"
    }
   ],
   "source": [
    "df_surf.total_revenue.describe()"
   ]
  },
  {
   "cell_type": "markdown",
   "metadata": {},
   "source": [
    "df_surf dan df_ultimate telah dibersihkan dari outliers. "
   ]
  },
  {
   "cell_type": "code",
   "execution_count": 109,
   "metadata": {},
   "outputs": [
    {
     "name": "stdout",
     "output_type": "stream",
     "text": [
      "p_value: 1.2963353374357338e-50\n",
      "menolak hitpotesis nol\n"
     ]
    }
   ],
   "source": [
    "alpha=.05\n",
    "results=st.ttest_ind(df_surf['total_revenue'], df_ultimate['total_revenue'], equal_var=False)\n",
    "print('p_value:',results.pvalue)\n",
    "if results.pvalue<alpha:\n",
    "    print('menolak hitpotesis nol')\n",
    "else:\n",
    "    print('tidak menolak hipotesis nol')\n",
    "    "
   ]
  },
  {
   "cell_type": "markdown",
   "metadata": {},
   "source": [
    "Kesimpulan dari uji hipotesis pertama adalah: \n",
    "<br>rata-rata pendapatan dari pengguna paket telepon Ultimate dan Surf berbeda. "
   ]
  },
  {
   "cell_type": "markdown",
   "metadata": {},
   "source": [
    "H0 = Rata-rata pendapatan dari pengguna paket telepon Ultimate dan Surf sama\n",
    "<br>H1 = Rata-rata pendapatan dari pengguna paket telepon Surf > Ultimate\n",
    "<br>alpha=0.05 (5%)"
   ]
  },
  {
   "cell_type": "code",
   "execution_count": 110,
   "metadata": {},
   "outputs": [
    {
     "name": "stdout",
     "output_type": "stream",
     "text": [
      "p_value: 1.0\n",
      "tidak menolak hipotesis nol\n"
     ]
    }
   ],
   "source": [
    "alpha=.05\n",
    "results=st.ttest_ind(df_surf['total_revenue'], df_ultimate['total_revenue'], equal_var=False, alternative='greater')\n",
    "print('p_value:',results.pvalue)\n",
    "if results.pvalue<alpha:\n",
    "    print('menolak hitpotesis nol')\n",
    "else:\n",
    "    print('tidak menolak hipotesis nol')"
   ]
  },
  {
   "cell_type": "markdown",
   "metadata": {},
   "source": [
    "Artinya mean revenue surf < mean revenue ultimate! "
   ]
  },
  {
   "cell_type": "markdown",
   "metadata": {},
   "source": [
    "H0 = Rata-rata pendapatan dari pengguna paket telepon Ultimate dan Surf sama\n",
    "<br>H1 = Rata-rata pendapatan dari pengguna paket telepon Surf < Ultimate\n",
    "<br>alpha=0.05 (5%)"
   ]
  },
  {
   "cell_type": "code",
   "execution_count": 111,
   "metadata": {},
   "outputs": [
    {
     "name": "stdout",
     "output_type": "stream",
     "text": [
      "p_value: 6.481676687178669e-51\n",
      "menolak hitpotesis nol\n"
     ]
    }
   ],
   "source": [
    "alpha=.05\n",
    "results=st.ttest_ind(df_surf['total_revenue'], df_ultimate['total_revenue'], equal_var=False, alternative='less')\n",
    "print('p_value:',results.pvalue)\n",
    "if results.pvalue<alpha:\n",
    "    print('menolak hitpotesis nol')\n",
    "else:\n",
    "    print('tidak menolak hipotesis nol')"
   ]
  },
  {
   "cell_type": "markdown",
   "metadata": {},
   "source": [
    "Probabilitas mean revenue surf < mean revenue ultimate adalah kemungkinan besar terjadi!"
   ]
  },
  {
   "cell_type": "markdown",
   "metadata": {},
   "source": [
    "<div class=\"alert alert-block alert-info\">\n",
    "<b> Rata-rata pendapatan dari pengguna di wilayah NY-NJ berbeda dengan pendapatan pengguna dari wilayah lain?\n",
    "</div>"
   ]
  },
  {
   "cell_type": "code",
   "execution_count": 114,
   "metadata": {},
   "outputs": [
    {
     "data": {
      "text/plain": [
       "New York-Newark-Jersey City, NY-NJ-PA MSA          377\n",
       "Los Angeles-Long Beach-Anaheim, CA MSA             132\n",
       "Chicago-Naperville-Elgin, IL-IN-WI MSA              94\n",
       "Dallas-Fort Worth-Arlington, TX MSA                 88\n",
       "Philadelphia-Camden-Wilmington, PA-NJ-DE-MD MSA     82\n",
       "                                                  ... \n",
       "Omaha-Council Bluffs, NE-IA MSA                      3\n",
       "El Paso, TX MSA                                      2\n",
       "Raleigh-Cary, NC MSA                                 2\n",
       "Jacksonville, FL MSA                                 2\n",
       "Cape Coral-Fort Myers, FL MSA                        1\n",
       "Name: city, Length: 73, dtype: int64"
      ]
     },
     "execution_count": 114,
     "metadata": {},
     "output_type": "execute_result"
    }
   ],
   "source": [
    "df_monthly['city'].value_counts(ascending=False)"
   ]
  },
  {
   "cell_type": "code",
   "execution_count": 115,
   "metadata": {},
   "outputs": [],
   "source": [
    "ny_nj_users=df_monthly[df_monthly['city']=='New York-Newark-Jersey City, NY-NJ-PA MSA']"
   ]
  },
  {
   "cell_type": "code",
   "execution_count": 116,
   "metadata": {},
   "outputs": [],
   "source": [
    "other_regions_users=df_monthly[df_monthly['city']!='New York-Newark-Jersey City, NY-NJ-PA MSA']"
   ]
  },
  {
   "cell_type": "markdown",
   "metadata": {},
   "source": [
    "H0 = rata-rata pendapatan dari pengguna di wilayah NY-NJ dengan pengguna di wilayah lain adalah sama\n",
    "<br>H1 = rata-rata pendapatan dari penggunan di wilyah NY_Nj dengan penggunan di wilayah lain adalah berbeda\n",
    "<br>alpha = 5%"
   ]
  },
  {
   "cell_type": "code",
   "execution_count": 117,
   "metadata": {},
   "outputs": [
    {
     "name": "stdout",
     "output_type": "stream",
     "text": [
      "p_value: 0.03352561588530014\n",
      "menolak hipotesis nol\n"
     ]
    }
   ],
   "source": [
    "alpha=0.05\n",
    "results=st.ttest_ind(ny_nj_users['total_revenue'], other_regions_users['total_revenue'], \n",
    "                     equal_var=False)\n",
    "print('p_value:',results.pvalue)\n",
    "if results.pvalue<alpha:\n",
    "    print('menolak hipotesis nol')\n",
    "else:\n",
    "    print('tidak menolak hipotesis nol')"
   ]
  },
  {
   "cell_type": "markdown",
   "metadata": {},
   "source": [
    "Tentunya mean revenue satu wilayah berbeda dengan wilayah lainnya, mari kita buktikan!"
   ]
  },
  {
   "cell_type": "markdown",
   "metadata": {},
   "source": [
    "H0 = rata-rata pendapatan dari pengguna di wilayah NY-NJ dengan pengguna di wilayah lain adalah sama\n",
    "<br>H1 = rata-rata pendapatan dari penggunan di wilyah NY_Nj > penggunan di wilayah lain \n",
    "<br>alpha = 5%"
   ]
  },
  {
   "cell_type": "code",
   "execution_count": 118,
   "metadata": {},
   "outputs": [
    {
     "name": "stdout",
     "output_type": "stream",
     "text": [
      "p_value: 0.9832371920573499\n",
      "tidak menolak hipotesis nol\n"
     ]
    }
   ],
   "source": [
    "alpha=0.05\n",
    "results=st.ttest_ind(ny_nj_users['total_revenue'], other_regions_users['total_revenue'], \n",
    "                     equal_var=False, alternative='greater')\n",
    "print('p_value:',results.pvalue)\n",
    "if results.pvalue<alpha:\n",
    "    print('menolak hipotesis nol')\n",
    "else:\n",
    "    print('tidak menolak hipotesis nol')"
   ]
  },
  {
   "cell_type": "markdown",
   "metadata": {},
   "source": [
    "H0 = rata-rata pendapatan dari pengguna di wilayah NY-NJ dengan pengguna di wilayah lain adalah sama\n",
    "<br>H1 = rata-rata pendapatan dari penggunan di wilyah NY_Nj < penggunan di wilayah lain\n",
    "<br>alpha = 5%"
   ]
  },
  {
   "cell_type": "code",
   "execution_count": 119,
   "metadata": {},
   "outputs": [
    {
     "name": "stdout",
     "output_type": "stream",
     "text": [
      "p_value: 0.01676280794265007\n",
      "menolak hitpotesis nol\n"
     ]
    }
   ],
   "source": [
    "alpha=0.05\n",
    "results=st.ttest_ind(ny_nj_users['total_revenue'], other_regions_users['total_revenue'], \n",
    "                     equal_var=False, alternative='less')\n",
    "print('p_value:',results.pvalue)\n",
    "if results.pvalue<alpha:\n",
    "    print('menolak hitpotesis nol')\n",
    "else:\n",
    "    print('tidak menolak hipotesis nol')"
   ]
  },
  {
   "cell_type": "markdown",
   "metadata": {},
   "source": [
    "Ternyata mean revenue di wilayah NY_NJ < mean revenue wilayah lain SECARA KESELURUHAN."
   ]
  },
  {
   "cell_type": "code",
   "execution_count": 120,
   "metadata": {},
   "outputs": [
    {
     "data": {
      "text/plain": [
       "59.921352785145885"
      ]
     },
     "execution_count": 120,
     "metadata": {},
     "output_type": "execute_result"
    }
   ],
   "source": [
    "ny_nj_users['total_revenue'].mean()"
   ]
  },
  {
   "cell_type": "code",
   "execution_count": 121,
   "metadata": {},
   "outputs": [
    {
     "data": {
      "text/plain": [
       "65.2227713987474"
      ]
     },
     "execution_count": 121,
     "metadata": {},
     "output_type": "execute_result"
    }
   ],
   "source": [
    "other_regions_users['total_revenue'].mean()"
   ]
  },
  {
   "cell_type": "markdown",
   "metadata": {},
   "source": [
    "Membandingkan ny_nj_users dengan beberapa wilayah:"
   ]
  },
  {
   "cell_type": "code",
   "execution_count": 122,
   "metadata": {},
   "outputs": [
    {
     "data": {
      "text/plain": [
       "total_revenue    54.047727\n",
       "dtype: float64"
      ]
     },
     "execution_count": 122,
     "metadata": {},
     "output_type": "execute_result"
    }
   ],
   "source": [
    "other_regions_users.loc[other_regions_users['city']=='Los Angeles-Long Beach-Anaheim, CA MSA',\n",
    "                        ['total_revenue']].mean()"
   ]
  },
  {
   "cell_type": "code",
   "execution_count": 123,
   "metadata": {},
   "outputs": [
    {
     "data": {
      "text/plain": [
       "total_revenue    55.001489\n",
       "dtype: float64"
      ]
     },
     "execution_count": 123,
     "metadata": {},
     "output_type": "execute_result"
    }
   ],
   "source": [
    "other_regions_users.loc[other_regions_users['city']=='Chicago-Naperville-Elgin, IL-IN-WI MSA',\n",
    "                        ['total_revenue']].mean()"
   ]
  },
  {
   "cell_type": "code",
   "execution_count": 124,
   "metadata": {},
   "outputs": [
    {
     "data": {
      "text/plain": [
       "total_revenue    70.539659\n",
       "dtype: float64"
      ]
     },
     "execution_count": 124,
     "metadata": {},
     "output_type": "execute_result"
    }
   ],
   "source": [
    "other_regions_users.loc[other_regions_users['city']=='Dallas-Fort Worth-Arlington, TX MSA',\n",
    "                        ['total_revenue']].mean()"
   ]
  },
  {
   "cell_type": "code",
   "execution_count": 125,
   "metadata": {},
   "outputs": [
    {
     "data": {
      "text/plain": [
       "total_revenue    63.609268\n",
       "dtype: float64"
      ]
     },
     "execution_count": 125,
     "metadata": {},
     "output_type": "execute_result"
    }
   ],
   "source": [
    "other_regions_users.loc[other_regions_users['city']=='Philadelphia-Camden-Wilmington, PA-NJ-DE-MD MSA',\n",
    "                        ['total_revenue']].mean()"
   ]
  },
  {
   "cell_type": "markdown",
   "metadata": {},
   "source": [
    "__KESIMPULAN__"
   ]
  },
  {
   "cell_type": "markdown",
   "metadata": {},
   "source": [
    "Dalam laporan ini, telah dilakukan analisa customers‘ behavior dari operator telekomunikasi Megaline untuk menentukan mana dari dua paket prabayar yang lebih menguntungkan dan menguji dua hipotesis statistik.\n",
    "\n",
    "Langkah-langkah analisa:\n",
    "1. Menganalisa data deskriptif lalu melakukan pre-processing data dengan melakukan pemeriksaan missing_values, keterkaitan antar data, duplicated data serta mengubah tipe data (misal dari object menjadi datetime) \n",
    "\n",
    "2. Sesuai dengan kebijakan perusahaan maka data waktu (duration) pada data calls dibulatkan menjadi satuan menit\n",
    "\n",
    "3. Missing values pada kolom churn_date dari data df_users diasumsikan menjadi 2018-12-31 karena melihat dari data yang diberikan, ini adalah data sepanjang 2018.  \n",
    "\n",
    "4. Pengelompokkan data dengan membuat kolom baru yang terintegrasi, i.e.:\n",
    "    <br>4.1.Total menit yang digunakan per bulan;\n",
    "    <br>4.2.Jumlah pesan teks yang dikirim per bulan;\n",
    "    <br>4.3.Volume data per bulan;\n",
    "    <br>4.4.Keuntungan bulanan dari setiap pengguna (batas paket gratis dikurangi jumlah total panggilan, SMS, dan data,\n",
    "        lalu mengalikan hasilnya dengan jumlah yang termasuk dalam paket dan menambahkan biaya paket bulanan)\n",
    "\n",
    "5. Melakukan EDA (Analisis Data Eksploratif) untuk menganalisis perilaku pelanggan untuk setiap paket dan kemudian membandingkan kedua paket tersebut.\n",
    "<br>Kesimpulan yang didapat: paket \"Surf\" sebagian besar menguntungkan sepanjang tahun dengan kecenderungan semakin menguntungkan menjelang akhir tahun. Sedangkan paket \"Ultimate\" sama sekalai tidak menguntungkan sepanjang tahun, dengan kecenderungan sebaliknya, yaitu semakin merugi di akhir tahun.\n",
    "<br>Distribusi untuk calls duration mendekati normal (std < mean) dengan mean/median untuk panggilan 424-430 menit per bulan dan untuk mean/median penggunaan volume data internet berkisar 17-18 gb per bulan untuk kedua paket. Distribusi data untuk messages cenderung positif dengan standar deviasi yang cukup besar (std < mean untuk plan surf). Ini berarti bahwa beberapa orang mengirim pesan dalam jumlah besar dibandingkan dengan rata-rata jumlah pesan.\n",
    "\n",
    "6. Uji hipotesis:\n",
    "    <br>6.1.Rata-rata pendapatan dari pengguna paket Ultimate dan Surf berbeda;\n",
    "    <br>6.2.Rata-rata pendapatan dari pengguna di wilayah NY-NJ berbeda dengan pengguna dari wilayah lain.\n",
    "\n",
    "Untuk kedua kasus, dilakukan uji hipotesis 1 dan 2 arah (unilatetal dan bilateral hypothesis):\n",
    "<li>bilateral: \n",
    "    <br>pada kedua kasus menghasilkan penolakan H0 yaitu baik plan surf vs ultimate dan pengguna di wilayah NY-NJ vs other regions memberikan keuntungan rata-rata yang TIDAK SAMA bagi perusahaan.\n",
    "<li>unilateral:\n",
    "    <br>memilih hipotesis alternatif yaitu: \n",
    "            <br>Secara rata-rata pendapatan perusahaan, paket \"Surf\" memberikan rata-rata keuntungan < rata-rata keuntungan paket \"Ultimate\" dan pengguna di wilayah NY-NJ menghasilkan rata-rata keuntungan < rata-rata keuntungan pengguna dari wilayah lain secara keseluruhan.\n",
    "        "
   ]
  },
  {
   "cell_type": "code",
   "execution_count": null,
   "metadata": {},
   "outputs": [],
   "source": []
  }
 ],
 "metadata": {
  "kernelspec": {
   "display_name": "Python 3 (ipykernel)",
   "language": "python",
   "name": "python3"
  },
  "language_info": {
   "codemirror_mode": {
    "name": "ipython",
    "version": 3
   },
   "file_extension": ".py",
   "mimetype": "text/x-python",
   "name": "python",
   "nbconvert_exporter": "python",
   "pygments_lexer": "ipython3",
   "version": "3.9.5"
  },
  "toc": {
   "base_numbering": 1,
   "nav_menu": {},
   "number_sections": true,
   "sideBar": true,
   "skip_h1_title": true,
   "title_cell": "Table of Contents",
   "title_sidebar": "Contents",
   "toc_cell": false,
   "toc_position": {},
   "toc_section_display": true,
   "toc_window_display": false
  }
 },
 "nbformat": 4,
 "nbformat_minor": 2
}
